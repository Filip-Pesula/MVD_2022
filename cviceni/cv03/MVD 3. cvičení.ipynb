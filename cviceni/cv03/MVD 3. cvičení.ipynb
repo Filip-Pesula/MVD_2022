{
 "cells": [
  {
   "cell_type": "markdown",
   "metadata": {},
   "source": [
    "# MVD 3. cvičení\n",
    "\n",
    "## 1. část - Stažení a načtení předtrénovaných GloVe slovních reprezentací\n",
    "\n",
    "\n",
    "### Stažení dat\n",
    "\n",
    "Pro toto cvičení můžete používat předtrénované Word2Vec nebo GloVe vektory. Následující text se vztahuje ke GloVe vektorům, které byly vybrány z důvodu menší velikosti. \n",
    "\n",
    "Základní verzi vektorů lze stáhnout [zde (GloVe link)](https://huggingface.co/stanfordnlp/glove/resolve/main/glove.6B.zip).\n",
    "\n",
    "Wikipedia 2014 + Gigaword 5 (6B tokens, 400K vocab, uncased, 300d vectors, 822 MB download)\n",
    "\n",
    "Po rozbalení staženého archivu budete mít několik verzí o různé dimenzi vektorů - 50d, 100d, 200d, 300d. Je doporučeno začít pracovat s nejmenšími vektory a na větších spouštět až závěrečné řešení.\n",
    "\n",
    "### Načtení dat\n",
    "\n",
    "Data jsou uložena v textovém souboru, kde je na každém řádku slovo a jeho příslušný vektor.\n",
    "\n",
    "Načtení je vhodné provést do dvou proměnných -> words, vectors. Words bude list o délce *n* a vectors bude matice o velikosti *(n, d)*. \n",
    "\n",
    "Zároveň vytvořte slovník word2idx, pomocí kterého lze získat index libovolného slova (pomocí *word2idx['queen']*)."
   ]
  },
  {
   "cell_type": "code",
   "execution_count": 1,
   "metadata": {},
   "outputs": [
    {
     "name": "stdout",
     "output_type": "stream",
     "text": [
      "king 691\n",
      "queen 2060\n",
      "man 300\n",
      "woman 787\n"
     ]
    }
   ],
   "source": [
    "import numpy as np\n",
    "VecFile = \"glove.6B.300d.txt\"\n",
    "wordVec = list()\n",
    "vecVec = list()\n",
    "wordDict = dict()\n",
    "read = 0\n",
    "\n",
    "with open(VecFile,\"r\", encoding = \"utf-8\") as file:\n",
    "    if(read>0):\n",
    "        for i in range(read):\n",
    "            line  = file.readline()\n",
    "            line = line.strip().split(\" \")\n",
    "            wordVec.append(line[0])\n",
    "            wordDict[line[0]] = i\n",
    "            vecVec.append(np.array(line[1:]).astype(float))\n",
    "    else:\n",
    "        i = 0\n",
    "        for iline in file:\n",
    "            line = iline.strip().split(\" \")\n",
    "            wordVec.append(line[0])\n",
    "            wordDict[line[0]] = i\n",
    "            vecVec.append(np.array(line[1:]).astype(float))\n",
    "            i += 1\n",
    "print('king', wordDict[\"king\"])\n",
    "print('queen', wordDict[\"queen\"])\n",
    "print('man', wordDict[\"man\"])\n",
    "print('woman', wordDict[\"woman\"])\n",
    "\n",
    "\n",
    "\n"
   ]
  },
  {
   "cell_type": "markdown",
   "metadata": {},
   "source": [
    "## 2. část - Kosinová podobnost\n",
    "\n",
    "Vytvořte funkci cossim, která bude vracet kosinovu podobnost dvou vstupních vektorů.\n",
    "\n",
    "<br>\n",
    "<center>\n",
    "$\n",
    "similarity(a,b) = cos(\\theta) = \\frac{a \\cdot b}{\\lVert a \\lVert \\lVert b \\lVert}\n",
    "$\n",
    "</center>"
   ]
  },
  {
   "cell_type": "code",
   "execution_count": 2,
   "metadata": {},
   "outputs": [
    {
     "name": "stdout",
     "output_type": "stream",
     "text": [
      "1.0\n",
      "0.2927142720941118\n",
      "-1.0\n"
     ]
    }
   ],
   "source": [
    "def dist(vecl,vecr):\n",
    "    vv = np.dot(vecl,vecr)\n",
    "    a = np.sqrt(np.sum(np.square(vecl)))\n",
    "    b = np.sqrt(np.sum(np.square(vecr)))\n",
    "    return (vv/(a*b))\n",
    "print(dist(np.array([1.0,0.0]),np.array([1.1,0.0])))\n",
    "print(dist(np.array([1.0,0.2]),np.array([0.1,1.0])))\n",
    "print(dist(np.array([1.0,0.0]),np.array([-0.1,0.0])))"
   ]
  },
  {
   "cell_type": "markdown",
   "metadata": {},
   "source": [
    "## 3. část - Slovní analogie\n",
    "\n",
    "Nejznámější slovní analogií je z Word2Vec $f(\"king\") - f(\"man\") = f(\"queen\") - f(\"woman\")$\n",
    "\n",
    "1. Vytvořte skript pro hledání analogií $f(\"king\") - f(\"man\") = f(\"??\") - f(\"woman\")$ a vyzkoušejte i nějaké další.\n",
    "2. Vypište 5 nejpodobnějších slov"
   ]
  },
  {
   "cell_type": "code",
   "execution_count": 3,
   "metadata": {},
   "outputs": [
    {
     "name": "stdout",
     "output_type": "stream",
     "text": [
      "1.0\n",
      "0.6814114764713689\n"
     ]
    }
   ],
   "source": [
    "vec1 = vecVec[wordDict[\"king\"]] - vecVec[wordDict[\"man\"]]\n",
    "vec2 = vecVec[wordDict[\"queen\"]] - vecVec[wordDict[\"woman\"]]\n",
    "print(dist(wordDict[\"king\"],wordDict[\"queen\"]))\n",
    "print(dist(vec1,vec2))\n",
    "woman = vecVec[wordDict[\"woman\"]]\n",
    "def find(words:list,biases:list,n = 5):\n",
    "    topn  = list()\n",
    "    for i in range(n):\n",
    "        topn.append((0,0.0))\n",
    "    unknown = np.zeros(np.shape(vecVec[wordDict[words[0]]]))\n",
    "    for i,word in enumerate(words):\n",
    "        if(biases[i]):\n",
    "            unknown += vecVec[wordDict[word]]\n",
    "        else:\n",
    "            unknown -= vecVec[wordDict[word]]\n",
    "    for key in wordDict:\n",
    "        d = dist(vecVec[wordDict[key]] ,unknown)\n",
    "        for i,tup in enumerate(topn):\n",
    "            if d > tup[1]:\n",
    "                topn[i] = (wordDict[key],d)\n",
    "                break\n",
    "    return topn,unknown\n",
    "def findPrint(words:list,biases:list,n = 5):\n",
    "    top1,unknown1 = find(words,biases,n)\n",
    "    top1.sort(key=lambda tup: tup[1],reverse=True)\n",
    "    for tup in top1:\n",
    "        print(wordVec[tup[0]],': ',tup[1])\n",
    "    return top1,unknown1"
   ]
  },
  {
   "cell_type": "code",
   "execution_count": 4,
   "metadata": {},
   "outputs": [
    {
     "name": "stdout",
     "output_type": "stream",
     "text": [
      "king :  0.8065858062911337\n",
      "queen :  0.6896163185568701\n",
      "monarch :  0.5575490901900343\n",
      "kingdom :  0.5025345084859122\n",
      "elizabeth :  0.49080310737628424\n"
     ]
    }
   ],
   "source": [
    "top1,unknown1 = findPrint([\"king\",\"woman\",\"man\"],[True,True,False],5)"
   ]
  },
  {
   "cell_type": "code",
   "execution_count": 5,
   "metadata": {},
   "outputs": [
    {
     "data": {
      "text/plain": [
       "1.0000000000000002"
      ]
     },
     "execution_count": 5,
     "metadata": {},
     "output_type": "execute_result"
    }
   ],
   "source": [
    "dist(vecVec[wordDict[\"king\"]],vecVec[wordDict[\"king\"]])"
   ]
  },
  {
   "cell_type": "code",
   "execution_count": 6,
   "metadata": {},
   "outputs": [
    {
     "name": "stdout",
     "output_type": "stream",
     "text": [
      "sweet :  0.8021728772131591\n",
      "foods :  0.6159601532162767\n",
      "bread :  0.5808867260346312\n",
      "vegetables :  0.5770362563532005\n",
      "flavor :  0.5308176510088671\n"
     ]
    }
   ],
   "source": [
    "top2,unknown2 = findPrint([\"food\",\"sweet\"],[True,True],5)"
   ]
  },
  {
   "cell_type": "code",
   "execution_count": 7,
   "metadata": {},
   "outputs": [
    {
     "name": "stdout",
     "output_type": "stream",
     "text": [
      "animal :  0.7207073919374275\n",
      "pet :  0.47079915025802116\n",
      "wildlife :  0.4413794339654036\n",
      "carnivore :  0.4357023938353141\n",
      "elephant :  0.40028740238371774\n"
     ]
    }
   ],
   "source": [
    "top3,unknown3 = findPrint([\"animal\",\"carnivore\",\"herbivore\"],[True,True,False],5)"
   ]
  },
  {
   "cell_type": "code",
   "execution_count": 8,
   "metadata": {},
   "outputs": [
    {
     "name": "stdout",
     "output_type": "stream",
     "text": [
      "orange :  0.7729371568438712\n",
      "cat :  0.7285679973667799\n",
      "pink :  0.5205206379495432\n",
      "colored :  0.47718782306253027\n",
      "cats :  0.4747706727344657\n"
     ]
    }
   ],
   "source": [
    "top4,unknown4 = findPrint([\"cat\",\"orange\"],[True,True],5)"
   ]
  },
  {
   "cell_type": "code",
   "execution_count": 9,
   "metadata": {},
   "outputs": [
    {
     "name": "stdout",
     "output_type": "stream",
     "text": [
      "violent :  0.7732826962986239\n",
      "dog :  0.7675195061164735\n",
      "dogs :  0.6408122637941089\n",
      "vicious :  0.5091190971295944\n",
      "cat :  0.4895154895407166\n"
     ]
    }
   ],
   "source": [
    "top5,unknown5 = findPrint([\"dog\",\"violent\"],[True,True],5)"
   ]
  },
  {
   "cell_type": "markdown",
   "metadata": {},
   "source": [
    "### Bonus - Vytvořte vizualizaci slovních analogií\n",
    "\n",
    "Pro získání bonusového bodu je potřeba vytvořit vizualizaci slovních analogií (redukce dimenze + vizualizace)."
   ]
  },
  {
   "cell_type": "code",
   "execution_count": 11,
   "metadata": {},
   "outputs": [
    {
     "data": {
      "application/vnd.plotly.v1+json": {
       "config": {
        "plotlyServerURL": "https://plot.ly"
       },
       "data": [
        {
         "hovertemplate": "color=king-man+woman<br>x=%{x}<br>y=%{y}<br>text=%{text}<extra></extra>",
         "legendgroup": "king-man+woman",
         "marker": {
          "color": "#636efa",
          "symbol": "circle"
         },
         "mode": "markers+text",
         "name": "king-man+woman",
         "orientation": "v",
         "showlegend": true,
         "text": [
          "king",
          "queen",
          "monarch",
          "kingdom",
          "elizabeth"
         ],
         "textposition": "top center",
         "type": "scatter",
         "x": [
          271.89910888671875,
          262.96435546875,
          249.36032104492188,
          283.5028991699219,
          261.65924072265625
         ],
         "xaxis": "x",
         "y": [
          -260.0367431640625,
          -236.72189331054688,
          -264.20806884765625,
          -282.07147216796875,
          -220.14718627929688
         ],
         "yaxis": "y"
        },
        {
         "hovertemplate": "color=food+sweet<br>x=%{x}<br>y=%{y}<br>text=%{text}<extra></extra>",
         "legendgroup": "food+sweet",
         "marker": {
          "color": "#EF553B",
          "symbol": "circle"
         },
         "mode": "markers+text",
         "name": "food+sweet",
         "orientation": "v",
         "showlegend": true,
         "text": [
          "sweet",
          "foods",
          "bread",
          "vegetables",
          "flavor"
         ],
         "textposition": "top center",
         "type": "scatter",
         "x": [
          -179.73138427734375,
          -227.13497924804688,
          -242.1186981201172,
          -233.02882385253906,
          -183.0104217529297
         ],
         "xaxis": "x",
         "y": [
          -414.8519592285156,
          -346.8934631347656,
          -381.45849609375,
          -362.2743835449219,
          -399.4602355957031
         ],
         "yaxis": "y"
        },
        {
         "hovertemplate": "color=animal+carnivour-herbivore<br>x=%{x}<br>y=%{y}<br>text=%{text}<extra></extra>",
         "legendgroup": "animal+carnivour-herbivore",
         "marker": {
          "color": "#00cc96",
          "symbol": "circle"
         },
         "mode": "markers+text",
         "name": "animal+carnivour-herbivore",
         "orientation": "v",
         "showlegend": true,
         "text": [
          "animal",
          "pet",
          "wildlife",
          "carnivore",
          "elephant"
         ],
         "textposition": "top center",
         "type": "scatter",
         "x": [
          75.08767700195312,
          40.725494384765625,
          98.25308990478516,
          -38.71215057373047,
          82.91764831542969
         ],
         "xaxis": "x",
         "y": [
          79.46668243408203,
          43.72026062011719,
          68.34294128417969,
          -13.26292896270752,
          101.82630920410156
         ],
         "yaxis": "y"
        },
        {
         "hovertemplate": "color=cat+orange<br>x=%{x}<br>y=%{y}<br>text=%{text}<extra></extra>",
         "legendgroup": "cat+orange",
         "marker": {
          "color": "#ab63fa",
          "symbol": "circle"
         },
         "mode": "markers+text",
         "name": "cat+orange",
         "orientation": "v",
         "showlegend": true,
         "text": [
          "orange",
          "cat",
          "pink",
          "colored",
          "cats"
         ],
         "textposition": "top center",
         "type": "scatter",
         "x": [
          -281.1025695800781,
          -15.092808723449707,
          -258.9588928222656,
          -275.1760559082031,
          -40.80482482910156
         ],
         "xaxis": "x",
         "y": [
          202.16407775878906,
          10.131869316101074,
          180.92117309570312,
          182.0950469970703,
          22.223573684692383
         ],
         "yaxis": "y"
        },
        {
         "hovertemplate": "color=dog+violent<br>x=%{x}<br>y=%{y}<br>text=%{text}<extra></extra>",
         "legendgroup": "dog+violent",
         "marker": {
          "color": "#FFA15A",
          "symbol": "circle"
         },
         "mode": "markers+text",
         "name": "dog+violent",
         "orientation": "v",
         "showlegend": true,
         "text": [
          "violent",
          "dog",
          "dogs",
          "vicious",
          "cat"
         ],
         "textposition": "top center",
         "type": "scatter",
         "x": [
          185.7158660888672,
          40.16429138183594,
          26.825984954833984,
          175.3336639404297,
          -14.810273170471191
         ],
         "xaxis": "x",
         "y": [
          253.11827087402344,
          69.9781494140625,
          80.14262390136719,
          264.6588439941406,
          25.587926864624023
         ],
         "yaxis": "y"
        }
       ],
       "layout": {
        "legend": {
         "title": {
          "text": "color"
         },
         "tracegroupgap": 0
        },
        "margin": {
         "t": 60
        },
        "template": {
         "data": {
          "bar": [
           {
            "error_x": {
             "color": "#2a3f5f"
            },
            "error_y": {
             "color": "#2a3f5f"
            },
            "marker": {
             "line": {
              "color": "#E5ECF6",
              "width": 0.5
             },
             "pattern": {
              "fillmode": "overlay",
              "size": 10,
              "solidity": 0.2
             }
            },
            "type": "bar"
           }
          ],
          "barpolar": [
           {
            "marker": {
             "line": {
              "color": "#E5ECF6",
              "width": 0.5
             },
             "pattern": {
              "fillmode": "overlay",
              "size": 10,
              "solidity": 0.2
             }
            },
            "type": "barpolar"
           }
          ],
          "carpet": [
           {
            "aaxis": {
             "endlinecolor": "#2a3f5f",
             "gridcolor": "white",
             "linecolor": "white",
             "minorgridcolor": "white",
             "startlinecolor": "#2a3f5f"
            },
            "baxis": {
             "endlinecolor": "#2a3f5f",
             "gridcolor": "white",
             "linecolor": "white",
             "minorgridcolor": "white",
             "startlinecolor": "#2a3f5f"
            },
            "type": "carpet"
           }
          ],
          "choropleth": [
           {
            "colorbar": {
             "outlinewidth": 0,
             "ticks": ""
            },
            "type": "choropleth"
           }
          ],
          "contour": [
           {
            "colorbar": {
             "outlinewidth": 0,
             "ticks": ""
            },
            "colorscale": [
             [
              0,
              "#0d0887"
             ],
             [
              0.1111111111111111,
              "#46039f"
             ],
             [
              0.2222222222222222,
              "#7201a8"
             ],
             [
              0.3333333333333333,
              "#9c179e"
             ],
             [
              0.4444444444444444,
              "#bd3786"
             ],
             [
              0.5555555555555556,
              "#d8576b"
             ],
             [
              0.6666666666666666,
              "#ed7953"
             ],
             [
              0.7777777777777778,
              "#fb9f3a"
             ],
             [
              0.8888888888888888,
              "#fdca26"
             ],
             [
              1,
              "#f0f921"
             ]
            ],
            "type": "contour"
           }
          ],
          "contourcarpet": [
           {
            "colorbar": {
             "outlinewidth": 0,
             "ticks": ""
            },
            "type": "contourcarpet"
           }
          ],
          "heatmap": [
           {
            "colorbar": {
             "outlinewidth": 0,
             "ticks": ""
            },
            "colorscale": [
             [
              0,
              "#0d0887"
             ],
             [
              0.1111111111111111,
              "#46039f"
             ],
             [
              0.2222222222222222,
              "#7201a8"
             ],
             [
              0.3333333333333333,
              "#9c179e"
             ],
             [
              0.4444444444444444,
              "#bd3786"
             ],
             [
              0.5555555555555556,
              "#d8576b"
             ],
             [
              0.6666666666666666,
              "#ed7953"
             ],
             [
              0.7777777777777778,
              "#fb9f3a"
             ],
             [
              0.8888888888888888,
              "#fdca26"
             ],
             [
              1,
              "#f0f921"
             ]
            ],
            "type": "heatmap"
           }
          ],
          "heatmapgl": [
           {
            "colorbar": {
             "outlinewidth": 0,
             "ticks": ""
            },
            "colorscale": [
             [
              0,
              "#0d0887"
             ],
             [
              0.1111111111111111,
              "#46039f"
             ],
             [
              0.2222222222222222,
              "#7201a8"
             ],
             [
              0.3333333333333333,
              "#9c179e"
             ],
             [
              0.4444444444444444,
              "#bd3786"
             ],
             [
              0.5555555555555556,
              "#d8576b"
             ],
             [
              0.6666666666666666,
              "#ed7953"
             ],
             [
              0.7777777777777778,
              "#fb9f3a"
             ],
             [
              0.8888888888888888,
              "#fdca26"
             ],
             [
              1,
              "#f0f921"
             ]
            ],
            "type": "heatmapgl"
           }
          ],
          "histogram": [
           {
            "marker": {
             "pattern": {
              "fillmode": "overlay",
              "size": 10,
              "solidity": 0.2
             }
            },
            "type": "histogram"
           }
          ],
          "histogram2d": [
           {
            "colorbar": {
             "outlinewidth": 0,
             "ticks": ""
            },
            "colorscale": [
             [
              0,
              "#0d0887"
             ],
             [
              0.1111111111111111,
              "#46039f"
             ],
             [
              0.2222222222222222,
              "#7201a8"
             ],
             [
              0.3333333333333333,
              "#9c179e"
             ],
             [
              0.4444444444444444,
              "#bd3786"
             ],
             [
              0.5555555555555556,
              "#d8576b"
             ],
             [
              0.6666666666666666,
              "#ed7953"
             ],
             [
              0.7777777777777778,
              "#fb9f3a"
             ],
             [
              0.8888888888888888,
              "#fdca26"
             ],
             [
              1,
              "#f0f921"
             ]
            ],
            "type": "histogram2d"
           }
          ],
          "histogram2dcontour": [
           {
            "colorbar": {
             "outlinewidth": 0,
             "ticks": ""
            },
            "colorscale": [
             [
              0,
              "#0d0887"
             ],
             [
              0.1111111111111111,
              "#46039f"
             ],
             [
              0.2222222222222222,
              "#7201a8"
             ],
             [
              0.3333333333333333,
              "#9c179e"
             ],
             [
              0.4444444444444444,
              "#bd3786"
             ],
             [
              0.5555555555555556,
              "#d8576b"
             ],
             [
              0.6666666666666666,
              "#ed7953"
             ],
             [
              0.7777777777777778,
              "#fb9f3a"
             ],
             [
              0.8888888888888888,
              "#fdca26"
             ],
             [
              1,
              "#f0f921"
             ]
            ],
            "type": "histogram2dcontour"
           }
          ],
          "mesh3d": [
           {
            "colorbar": {
             "outlinewidth": 0,
             "ticks": ""
            },
            "type": "mesh3d"
           }
          ],
          "parcoords": [
           {
            "line": {
             "colorbar": {
              "outlinewidth": 0,
              "ticks": ""
             }
            },
            "type": "parcoords"
           }
          ],
          "pie": [
           {
            "automargin": true,
            "type": "pie"
           }
          ],
          "scatter": [
           {
            "fillpattern": {
             "fillmode": "overlay",
             "size": 10,
             "solidity": 0.2
            },
            "type": "scatter"
           }
          ],
          "scatter3d": [
           {
            "line": {
             "colorbar": {
              "outlinewidth": 0,
              "ticks": ""
             }
            },
            "marker": {
             "colorbar": {
              "outlinewidth": 0,
              "ticks": ""
             }
            },
            "type": "scatter3d"
           }
          ],
          "scattercarpet": [
           {
            "marker": {
             "colorbar": {
              "outlinewidth": 0,
              "ticks": ""
             }
            },
            "type": "scattercarpet"
           }
          ],
          "scattergeo": [
           {
            "marker": {
             "colorbar": {
              "outlinewidth": 0,
              "ticks": ""
             }
            },
            "type": "scattergeo"
           }
          ],
          "scattergl": [
           {
            "marker": {
             "colorbar": {
              "outlinewidth": 0,
              "ticks": ""
             }
            },
            "type": "scattergl"
           }
          ],
          "scattermapbox": [
           {
            "marker": {
             "colorbar": {
              "outlinewidth": 0,
              "ticks": ""
             }
            },
            "type": "scattermapbox"
           }
          ],
          "scatterpolar": [
           {
            "marker": {
             "colorbar": {
              "outlinewidth": 0,
              "ticks": ""
             }
            },
            "type": "scatterpolar"
           }
          ],
          "scatterpolargl": [
           {
            "marker": {
             "colorbar": {
              "outlinewidth": 0,
              "ticks": ""
             }
            },
            "type": "scatterpolargl"
           }
          ],
          "scatterternary": [
           {
            "marker": {
             "colorbar": {
              "outlinewidth": 0,
              "ticks": ""
             }
            },
            "type": "scatterternary"
           }
          ],
          "surface": [
           {
            "colorbar": {
             "outlinewidth": 0,
             "ticks": ""
            },
            "colorscale": [
             [
              0,
              "#0d0887"
             ],
             [
              0.1111111111111111,
              "#46039f"
             ],
             [
              0.2222222222222222,
              "#7201a8"
             ],
             [
              0.3333333333333333,
              "#9c179e"
             ],
             [
              0.4444444444444444,
              "#bd3786"
             ],
             [
              0.5555555555555556,
              "#d8576b"
             ],
             [
              0.6666666666666666,
              "#ed7953"
             ],
             [
              0.7777777777777778,
              "#fb9f3a"
             ],
             [
              0.8888888888888888,
              "#fdca26"
             ],
             [
              1,
              "#f0f921"
             ]
            ],
            "type": "surface"
           }
          ],
          "table": [
           {
            "cells": {
             "fill": {
              "color": "#EBF0F8"
             },
             "line": {
              "color": "white"
             }
            },
            "header": {
             "fill": {
              "color": "#C8D4E3"
             },
             "line": {
              "color": "white"
             }
            },
            "type": "table"
           }
          ]
         },
         "layout": {
          "annotationdefaults": {
           "arrowcolor": "#2a3f5f",
           "arrowhead": 0,
           "arrowwidth": 1
          },
          "autotypenumbers": "strict",
          "coloraxis": {
           "colorbar": {
            "outlinewidth": 0,
            "ticks": ""
           }
          },
          "colorscale": {
           "diverging": [
            [
             0,
             "#8e0152"
            ],
            [
             0.1,
             "#c51b7d"
            ],
            [
             0.2,
             "#de77ae"
            ],
            [
             0.3,
             "#f1b6da"
            ],
            [
             0.4,
             "#fde0ef"
            ],
            [
             0.5,
             "#f7f7f7"
            ],
            [
             0.6,
             "#e6f5d0"
            ],
            [
             0.7,
             "#b8e186"
            ],
            [
             0.8,
             "#7fbc41"
            ],
            [
             0.9,
             "#4d9221"
            ],
            [
             1,
             "#276419"
            ]
           ],
           "sequential": [
            [
             0,
             "#0d0887"
            ],
            [
             0.1111111111111111,
             "#46039f"
            ],
            [
             0.2222222222222222,
             "#7201a8"
            ],
            [
             0.3333333333333333,
             "#9c179e"
            ],
            [
             0.4444444444444444,
             "#bd3786"
            ],
            [
             0.5555555555555556,
             "#d8576b"
            ],
            [
             0.6666666666666666,
             "#ed7953"
            ],
            [
             0.7777777777777778,
             "#fb9f3a"
            ],
            [
             0.8888888888888888,
             "#fdca26"
            ],
            [
             1,
             "#f0f921"
            ]
           ],
           "sequentialminus": [
            [
             0,
             "#0d0887"
            ],
            [
             0.1111111111111111,
             "#46039f"
            ],
            [
             0.2222222222222222,
             "#7201a8"
            ],
            [
             0.3333333333333333,
             "#9c179e"
            ],
            [
             0.4444444444444444,
             "#bd3786"
            ],
            [
             0.5555555555555556,
             "#d8576b"
            ],
            [
             0.6666666666666666,
             "#ed7953"
            ],
            [
             0.7777777777777778,
             "#fb9f3a"
            ],
            [
             0.8888888888888888,
             "#fdca26"
            ],
            [
             1,
             "#f0f921"
            ]
           ]
          },
          "colorway": [
           "#636efa",
           "#EF553B",
           "#00cc96",
           "#ab63fa",
           "#FFA15A",
           "#19d3f3",
           "#FF6692",
           "#B6E880",
           "#FF97FF",
           "#FECB52"
          ],
          "font": {
           "color": "#2a3f5f"
          },
          "geo": {
           "bgcolor": "white",
           "lakecolor": "white",
           "landcolor": "#E5ECF6",
           "showlakes": true,
           "showland": true,
           "subunitcolor": "white"
          },
          "hoverlabel": {
           "align": "left"
          },
          "hovermode": "closest",
          "mapbox": {
           "style": "light"
          },
          "paper_bgcolor": "white",
          "plot_bgcolor": "#E5ECF6",
          "polar": {
           "angularaxis": {
            "gridcolor": "white",
            "linecolor": "white",
            "ticks": ""
           },
           "bgcolor": "#E5ECF6",
           "radialaxis": {
            "gridcolor": "white",
            "linecolor": "white",
            "ticks": ""
           }
          },
          "scene": {
           "xaxis": {
            "backgroundcolor": "#E5ECF6",
            "gridcolor": "white",
            "gridwidth": 2,
            "linecolor": "white",
            "showbackground": true,
            "ticks": "",
            "zerolinecolor": "white"
           },
           "yaxis": {
            "backgroundcolor": "#E5ECF6",
            "gridcolor": "white",
            "gridwidth": 2,
            "linecolor": "white",
            "showbackground": true,
            "ticks": "",
            "zerolinecolor": "white"
           },
           "zaxis": {
            "backgroundcolor": "#E5ECF6",
            "gridcolor": "white",
            "gridwidth": 2,
            "linecolor": "white",
            "showbackground": true,
            "ticks": "",
            "zerolinecolor": "white"
           }
          },
          "shapedefaults": {
           "line": {
            "color": "#2a3f5f"
           }
          },
          "ternary": {
           "aaxis": {
            "gridcolor": "white",
            "linecolor": "white",
            "ticks": ""
           },
           "baxis": {
            "gridcolor": "white",
            "linecolor": "white",
            "ticks": ""
           },
           "bgcolor": "#E5ECF6",
           "caxis": {
            "gridcolor": "white",
            "linecolor": "white",
            "ticks": ""
           }
          },
          "title": {
           "x": 0.05
          },
          "xaxis": {
           "automargin": true,
           "gridcolor": "white",
           "linecolor": "white",
           "ticks": "",
           "title": {
            "standoff": 15
           },
           "zerolinecolor": "white",
           "zerolinewidth": 2
          },
          "yaxis": {
           "automargin": true,
           "gridcolor": "white",
           "linecolor": "white",
           "ticks": "",
           "title": {
            "standoff": 15
           },
           "zerolinecolor": "white",
           "zerolinewidth": 2
          }
         }
        },
        "xaxis": {
         "anchor": "y",
         "domain": [
          0,
          1
         ],
         "title": {
          "text": "x"
         }
        },
        "yaxis": {
         "anchor": "x",
         "domain": [
          0,
          1
         ],
         "title": {
          "text": "y"
         }
        }
       }
      }
     },
     "metadata": {},
     "output_type": "display_data"
    }
   ],
   "source": [
    "from sklearn.manifold import TSNE\n",
    "import numpy as np\n",
    "import plotly.express as px\n",
    "x = list()\n",
    "col = list()\n",
    "text = list()\n",
    "def addFound(found,name):\n",
    "    for tup in found:\n",
    "        x.append(vecVec[tup[0]])\n",
    "        col.append(name)\n",
    "        text.append(wordVec[tup[0]])\n",
    "\n",
    "addFound(top1,\"king-man+woman\")\n",
    "addFound(top2,\"food+sweet\")\n",
    "addFound(top3,\"animal+carnivour-herbivore\")\n",
    "addFound(top4,\"cat+orange\")\n",
    "addFound(top5,\"dog+violent\")\n",
    "\n",
    "\n",
    "\n",
    "arr = np.asarray(x)\n",
    "arr = arr.squeeze()\n",
    "\n",
    "X_embedded = TSNE(n_components=2,  init='random', perplexity=2).fit_transform(arr)\n",
    "fig = px.scatter(X_embedded, x=X_embedded[:,0], y=X_embedded[:,1],color = col,text=text)\n",
    "fig.update_traces(textposition='top center')\n",
    "fig.show()"
   ]
  }
 ],
 "metadata": {
  "kernelspec": {
   "display_name": "Python 3.9.7 ('base')",
   "language": "python",
   "name": "python3"
  },
  "language_info": {
   "codemirror_mode": {
    "name": "ipython",
    "version": 3
   },
   "file_extension": ".py",
   "mimetype": "text/x-python",
   "name": "python",
   "nbconvert_exporter": "python",
   "pygments_lexer": "ipython3",
   "version": "3.9.7"
  },
  "vscode": {
   "interpreter": {
    "hash": "a077222d77dfe082b8f1dd562ad70e458ac2ab76993a0b248ab0476e32e9e8dd"
   }
  }
 },
 "nbformat": 4,
 "nbformat_minor": 4
}
