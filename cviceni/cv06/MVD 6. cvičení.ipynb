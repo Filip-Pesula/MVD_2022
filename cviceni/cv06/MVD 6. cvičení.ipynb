{
 "cells": [
  {
   "cell_type": "markdown",
   "metadata": {},
   "source": [
    "# MVD 6. cvičení\n",
    "\n",
    "## 1. část - PageRank\n",
    "\n",
    "Data k dnešnímu cvičení použijte z tohoto [Github repozitáře](https://github.com/chonyy/PageRank-HITS-SimRank/tree/master/dataset). Konkrétně nás budou zajímat soubory *graph_1.txt* až *graph_6.txt*. K daným datasetům je v repozitáři implementace PageRank algoritmu, každopádně se touto implementací nijak neinspirujte. \n",
    "\n",
    "Cílem je naprogramovat PageRank vektorizovaně podle přednášky, povoleno je pouze použití knihovny numpy. Parametr $\\alpha$ nastavte na hodnotu 0.2 a počet iterací bude 100. U prvních grafů uvidíte, že PageRank konverguje mnohem dříve a u těch složitějších nemusí stačit ani 100 iterací.\n",
    "\n",
    "<br>\n",
    "\n",
    "$p^{(0)} = (\\frac{1}{N}, ..., \\frac{1}{N})^T$ \n",
    "<br>\n",
    "\n",
    "$A = ((1-\\alpha)M + \\frac{\\alpha}{N}E)$\n",
    "<br>\n",
    "\n",
    "Opakujte: \n",
    "<br>\n",
    "\n",
    "$\\hspace{1cm}p^{(i+1)} = A^Tp^{(i)}$\n",
    "\n",
    "Pozor: Stránka, která nemá výstupní linky, musí mít nastavený parametr $\\alpha$ na 1."
   ]
  },
  {
   "cell_type": "code",
   "execution_count": 1,
   "metadata": {},
   "outputs": [
    {
     "name": "stdout",
     "output_type": "stream",
     "text": [
      "{0: [1], 1: [2], 2: [3], 3: [4], 4: [5], 5: []}\n",
      "{0: [1], 1: [2], 2: [3], 3: [4], 4: [0]}\n"
     ]
    }
   ],
   "source": [
    "import csv\n",
    "def read(file:str)->dict[list]:\n",
    "    nodes = dict()\n",
    "    with open(file,\"r\") as f:\n",
    "        reader = csv.reader(f)\n",
    "        for line in reader:\n",
    "            line = [int(x)-1 for x in line]\n",
    "            if line[0] in nodes:\n",
    "                nodes[line[0]].append(line[1])\n",
    "            else:\n",
    "                nodes[line[0]] = [line[1]]\n",
    "            if not line[1] in nodes:\n",
    "                nodes[line[1]] = []\n",
    "    return nodes\n",
    "print(read(\"graph_1.txt\"))\n",
    "print(read(\"graph_2.txt\"))\n"
   ]
  },
  {
   "cell_type": "code",
   "execution_count": 2,
   "metadata": {},
   "outputs": [
    {
     "name": "stdout",
     "output_type": "stream",
     "text": [
      "A [[0.03333333 0.83333333 0.03333333 0.03333333 0.03333333 0.03333333]\n",
      " [0.03333333 0.03333333 0.83333333 0.03333333 0.03333333 0.03333333]\n",
      " [0.03333333 0.03333333 0.03333333 0.83333333 0.03333333 0.03333333]\n",
      " [0.03333333 0.03333333 0.03333333 0.03333333 0.83333333 0.03333333]\n",
      " [0.03333333 0.03333333 0.03333333 0.03333333 0.03333333 0.83333333]\n",
      " [0.16666667 0.16666667 0.16666667 0.16666667 0.16666667 0.16666667]]\n",
      "[[0.0656044 ]\n",
      " [0.11808792]\n",
      " [0.16007474]\n",
      " [0.19366419]\n",
      " [0.22053575]\n",
      " [0.242033  ]]\n"
     ]
    }
   ],
   "source": [
    "import numpy as np\n",
    "alph = 0.2\n",
    "g1 = read(\"graph_1.txt\")\n",
    "p = np.ones((len(g1),1))/len(g1)\n",
    "\n",
    "def genMx(g:dict[list])->np.ndarray:\n",
    "    M = np.zeros((len(g),len(g)))\n",
    "    for i in g:\n",
    "        for j in g[i]:\n",
    "            #if g[i] and g[j]:\n",
    "            M[i,j] = 1/len(g[i])\n",
    "    return M\n",
    "def getA(g:dict[list],alph:int)->np.ndarray:\n",
    "    M = genMx(g)\n",
    "    E = np.ones((len(g),len(g)))\n",
    "    a = np.zeros((len(g),1))\n",
    "    for i in g:\n",
    "        if len(g[i])==0:\n",
    "            a[i] = 1\n",
    "        else:\n",
    "            a[i] = alph\n",
    "    A = (1-a)*M+(a/len(g))*E\n",
    "    return A\n",
    "A = getA(g1,alph=alph)\n",
    "print('A',A)\n",
    "for i in range(100):\n",
    "    p = np.transpose(A)@p\n",
    "\n",
    "print(p)"
   ]
  },
  {
   "cell_type": "code",
   "execution_count": 3,
   "metadata": {},
   "outputs": [
    {
     "name": "stdout",
     "output_type": "stream",
     "text": [
      "[[0.0656044 ]\n",
      " [0.11808792]\n",
      " [0.16007474]\n",
      " [0.19366419]\n",
      " [0.22053575]\n",
      " [0.242033  ]]\n",
      "[[0.2]\n",
      " [0.2]\n",
      " [0.2]\n",
      " [0.2]\n",
      " [0.2]]\n",
      "[[0.17857143]\n",
      " [0.32142857]\n",
      " [0.32142857]\n",
      " [0.17857143]]\n",
      "[[0.27257372]\n",
      " [0.15666713]\n",
      " [0.13837881]\n",
      " [0.10924643]\n",
      " [0.18531604]\n",
      " [0.06563464]\n",
      " [0.07218322]]\n"
     ]
    }
   ],
   "source": [
    "def process(name:str,numit:int = 0)->None:\n",
    "    g = read(name)\n",
    "    p = np.ones((len(g),1))/len(g)\n",
    "    A = getA(g,alph=alph)\n",
    "    #print('A',A)\n",
    "    for i in range(numit):\n",
    "        p = np.transpose(A)@p\n",
    "    print(p)\n",
    "\n",
    "process(\"graph_1.txt\",100)\n",
    "process(\"graph_2.txt\",100)\n",
    "process(\"graph_3.txt\",100)\n",
    "process(\"graph_4.txt\",100)"
   ]
  },
  {
   "cell_type": "markdown",
   "metadata": {},
   "source": [
    "### Předpokládaný výstup\n",
    "\n",
    "#### graph_1.xt\n",
    "```python\n",
    "array([[0.0656044 ],\n",
    "       [0.11808792],\n",
    "       [0.16007474],\n",
    "       [0.19366419],\n",
    "       [0.22053575],\n",
    "       [0.242033  ]])\n",
    "```\n",
    "       \n",
    "#### graph_2.txt\n",
    "```python\n",
    "array([[0.2],\n",
    "       [0.2],\n",
    "       [0.2],\n",
    "       [0.2],\n",
    "       [0.2]])\n",
    "```\n",
    "\n",
    "\n",
    "#### graph_3.txt\n",
    "```python\n",
    "array([[0.17857143],\n",
    "       [0.32142857],\n",
    "       [0.32142857],\n",
    "       [0.17857143]])\n",
    "```\n",
    "\n",
    "\n",
    "#### graph_4.txt\n",
    "```python\n",
    "array([[0.27257372],\n",
    "       [0.15666713],\n",
    "       [0.13837881],\n",
    "       [0.10924643],\n",
    "       [0.18531604],\n",
    "       [0.06563464],\n",
    "       [0.07218322]])\n",
    "```\n"
   ]
  },
  {
   "cell_type": "markdown",
   "metadata": {},
   "source": [
    "## 2. část - HITS\n",
    "\n",
    "Použijte stejná data jako u PageRank algoritmu a počet iterací bude opět 100.\n",
    "\n",
    "Implementujte dle následujícího algoritmu:\n",
    "<br>\n",
    "\n",
    "$\n",
    "a^{(0)} = (1, ..., 1)^T, h^{(0)} = (1, ..., 1)^T\n",
    "\\\\\n",
    "Opakujte:\\\\\n",
    "    \\hspace{1cm} h^{(i+1)} = Aa^{(i)}\\\\\n",
    "    \\hspace{1cm} h^{(i+1)} = \\frac{h^{(i+1)}}{||h^{(i+1)}||_1}\\\\\n",
    "    \\hspace{1cm} a^{(i+1)} = A^Th^{(i)}\\\\\n",
    "    \\hspace{1cm} a^{(i+1)} = \\frac{a^{(i+1)}}{||a^{(i+1)}||_1}\\\\   \n",
    "$"
   ]
  },
  {
   "cell_type": "code",
   "execution_count": 4,
   "metadata": {
    "scrolled": true
   },
   "outputs": [],
   "source": [
    "def init_HITS(g)-> tuple[np.ndarray,np.ndarray]:\n",
    "    a0 = np.ones((len(g),1))\n",
    "    h0 = np.ones((len(g),1))\n",
    "    return a0,h0"
   ]
  },
  {
   "cell_type": "code",
   "execution_count": 5,
   "metadata": {},
   "outputs": [],
   "source": [
    "def getA_HITS(g):\n",
    "    M = np.zeros((len(g),len(g)))\n",
    "    for i in g:\n",
    "        for j in g[i]:\n",
    "            #if g[i] and g[j]:\n",
    "            M[i,j] = 1\n",
    "    return M"
   ]
  },
  {
   "cell_type": "code",
   "execution_count": 6,
   "metadata": {},
   "outputs": [
    {
     "name": "stdout",
     "output_type": "stream",
     "text": [
      "[[0. ]\n",
      " [0.2]\n",
      " [0.2]\n",
      " [0.2]\n",
      " [0.2]\n",
      " [0.2]]\n",
      "[[0.2]\n",
      " [0.2]\n",
      " [0.2]\n",
      " [0.2]\n",
      " [0.2]\n",
      " [0. ]]\n",
      "[[0.2]\n",
      " [0.2]\n",
      " [0.2]\n",
      " [0.2]\n",
      " [0.2]]\n",
      "[[0.2]\n",
      " [0.2]\n",
      " [0.2]\n",
      " [0.2]\n",
      " [0.2]]\n",
      "[[0.19098301]\n",
      " [0.30901699]\n",
      " [0.30901699]\n",
      " [0.19098301]]\n",
      "[[0.19098301]\n",
      " [0.30901699]\n",
      " [0.30901699]\n",
      " [0.19098301]]\n",
      "[[0.13948389]\n",
      " [0.17791203]\n",
      " [0.20082321]\n",
      " [0.14017775]\n",
      " [0.20142536]\n",
      " [0.05608926]\n",
      " [0.08408849]]\n",
      "[[0.27545318]\n",
      " [0.04776231]\n",
      " [0.10868324]\n",
      " [0.19865956]\n",
      " [0.1837346 ]\n",
      " [0.11673471]\n",
      " [0.06897241]]\n"
     ]
    }
   ],
   "source": [
    "def process_HITS(name:str,numit:int = 100):\n",
    "    g = read(name)\n",
    "    a,h = init_HITS(g)\n",
    "    A = getA_HITS(g)\n",
    "    #print(A)\n",
    "    for i in range(numit):\n",
    "        h1 = A@a\n",
    "        h1 = h1/np.sum(h1)\n",
    "        a = np.transpose(A)@h\n",
    "        a = a / np.sum(a)\n",
    "        h = h1\n",
    "    print(a)\n",
    "    print(h)\n",
    "process_HITS(\"graph_1.txt\",100)\n",
    "process_HITS(\"graph_2.txt\",100)\n",
    "process_HITS(\"graph_3.txt\",100)\n",
    "process_HITS(\"graph_4.txt\",100)\n",
    "\n"
   ]
  },
  {
   "cell_type": "markdown",
   "metadata": {},
   "source": []
  },
  {
   "cell_type": "markdown",
   "metadata": {},
   "source": [
    "### Předpokládaný výstup\n",
    "\n",
    "#### graph_1.xt\n",
    "```python\n",
    "Authority:[[0. ]\n",
    " [0.2]\n",
    " [0.2]\n",
    " [0.2]\n",
    " [0.2]\n",
    " [0.2]]\n",
    "Hub: [[0.2]\n",
    " [0.2]\n",
    " [0.2]\n",
    " [0.2]\n",
    " [0.2]\n",
    " [0. ]]\n",
    "```\n",
    "       \n",
    "#### graph_2.txt\n",
    "```python\n",
    "Authority:[[0.2]\n",
    " [0.2]\n",
    " [0.2]\n",
    " [0.2]\n",
    " [0.2]]\n",
    "Hub: [[0.2]\n",
    " [0.2]\n",
    " [0.2]\n",
    " [0.2]\n",
    " [0.2]]\n",
    "```\n",
    "\n",
    "\n",
    "#### graph_3.txt\n",
    "```python\n",
    "Authority:[[0.19098301]\n",
    " [0.30901699]\n",
    " [0.30901699]\n",
    " [0.19098301]]\n",
    "Hub: [[0.19098301]\n",
    " [0.30901699]\n",
    " [0.30901699]\n",
    " [0.19098301]]\n",
    "```\n",
    "\n",
    "\n",
    "#### graph_4.txt\n",
    "```python\n",
    "Authority:[[0.13948389]\n",
    " [0.17791203]\n",
    " [0.20082321]\n",
    " [0.14017775]\n",
    " [0.20142536]\n",
    " [0.05608926]\n",
    " [0.08408849]]\n",
    "Hub: [[0.27545318]\n",
    " [0.04776231]\n",
    " [0.10868324]\n",
    " [0.19865956]\n",
    " [0.1837346 ]\n",
    " [0.11673471]\n",
    " [0.06897241]]\n",
    "```\n"
   ]
  },
  {
   "cell_type": "markdown",
   "metadata": {},
   "source": [
    "## Bonus - Invertovaný index pomocí MapReduce\n",
    "\n",
    "Bonusovou úlohou je vytvoření invertovaného indexu stejně, jako je uvedeno na příkladu v přednášce. Implementace nebude v standardním MapReduce frameworku, ale použijete python funkce ```map()``` a ```reduce()```. Funkci map lze poté spustit paralelně s pomocí ```Pool``` objektu z knihovny ```multiprocessing```. \n",
    "\n",
    "Vstupními daty budou Medium články, které jsme používali v posledních pár cvičeních. Z těchto článků použijte pouze nadpisy (title). "
   ]
  },
  {
   "cell_type": "code",
   "execution_count": null,
   "metadata": {},
   "outputs": [],
   "source": []
  },
  {
   "cell_type": "markdown",
   "metadata": {},
   "source": [
    "### Předpokládaný výstup\n",
    "\n",
    "```python\n",
    "print(inverted_index['be'])\n",
    "print(titles[12]) # zobrazení nadpisu pro kontrolu\n",
    "```\n",
    "```\n",
    "[('D0', 1), ('D12', 2), ('D13', 1), ('D14', 1), ('D15', 1), ('D18', 1), ('D36', 1), ('D56', 1), ('D57', 1), ('D58', 1), ('D60', 1), ('D61', 1), ('D83', 1), ('D86', 1), ('D87', 1), ('D98', 1), ('D108', 1), ('D113', 1), ('D121', 1), ('D123', 2), ('D128', 1), ('D136', 1), ('D138', 1), ('D139', 1), ('D140', 1), ('D153', 1), ('D169', 1), ('D170', 1), ('D216', 1), ('D218', 1), ('D224', 1), ('D227', 1), ('D231', 1), ('D233', 1), ('D237', 1), ('D246', 1), ('D258', 1), ('D261', 1), ('D264', 1), ('D267', 1), ('D273', 1), ('D321', 1), ('D330', 1), ('D335', 1)]\n",
    "```\n",
    "deep learning be go to teach we all the lesson of our life job be for machine\n",
    "\n",
    "Výstup bude identický za předpokladu použití spacy lemmatizéru. Zároveň výstup nemusí obsahovat stejný formát indexu, postačí *(index, count)*."
   ]
  }
 ],
 "metadata": {
  "interpreter": {
   "hash": "52c95d02f1bfe7c59da35d3ff8fa76f7d162251a8bf0068369a0a87df4b3e5e7"
  },
  "kernelspec": {
   "display_name": "Python 3.10.0 64-bit",
   "language": "python",
   "name": "python3"
  },
  "language_info": {
   "codemirror_mode": {
    "name": "ipython",
    "version": 3
   },
   "file_extension": ".py",
   "mimetype": "text/x-python",
   "name": "python",
   "nbconvert_exporter": "python",
   "pygments_lexer": "ipython3",
   "version": "3.10.0"
  },
  "vscode": {
   "interpreter": {
    "hash": "7b1f2b33e866b0bf2409397e5f58ba9cdf170d3b7f64c8f359c79998e2f88ad4"
   }
  }
 },
 "nbformat": 4,
 "nbformat_minor": 4
}
