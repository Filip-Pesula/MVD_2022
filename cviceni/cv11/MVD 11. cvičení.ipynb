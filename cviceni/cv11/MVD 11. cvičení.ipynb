{
 "cells": [
  {
   "cell_type": "markdown",
   "metadata": {},
   "source": [
    "# MVD 11. cvičení\n"
   ]
  },
  {
   "cell_type": "markdown",
   "metadata": {},
   "source": [
    "## 1. část - Collaborative Filtering (item-item)\n",
    "\n",
    "Vytvořte si matici podle příkladu v přednášce na item-item přístup na snímku 24. Využijte centered cosine similarity pro výpočet podobností stejně jako v přednášce a vyberte dva nejbližší sousedy. Ověřte, že je výsledek v přednášce správný a implementujte funkci tak, aby bylo možné jednoduše spočítat i libovolné další vyhodnocení. "
   ]
  },
  {
   "cell_type": "code",
   "execution_count": 1,
   "metadata": {},
   "outputs": [
    {
     "name": "stdout",
     "output_type": "stream",
     "text": [
      "dist 0,0: 0.9999999999999999\n",
      "dist 0,1: -0.17854212213729673\n",
      "dist 0,2: 0.41403933560541256\n",
      "dist 0,3: -0.10245014273309601\n",
      "dist 0,4: -0.30895719032666236\n",
      "dist 0,5: 0.5870395085642741\n",
      "closest (0.5870395085642741, (0, 5))\n"
     ]
    }
   ],
   "source": [
    "import numpy as np\n",
    "from colabFilter import ColabFilter\n",
    "\n",
    "items =  np.asarray([\n",
    "    [1,0,3,0,0,5,0,0,5,0,4,0],\n",
    "    [0,0,5,4,0,0,4,0,0,2,1,3],\n",
    "    [2,4,0,1,2,0,3,0,4,3,5,0],\n",
    "    [0,2,4,0,5,0,0,4,0,0,2,0],\n",
    "    [0,0,4,3,4,2,0,0,0,0,2,5],\n",
    "    [1,0,3,0,3,0,0,2,0,0,4,0],\n",
    "])\n",
    "\n",
    "colabf = ColabFilter(items)\n",
    "print(\"dist 0,0:\",colabf.dist(0,0))\n",
    "print(\"dist 0,1:\",colabf.dist(0,1))\n",
    "print(\"dist 0,2:\",colabf.dist(0,2))\n",
    "print(\"dist 0,3:\",colabf.dist(0,3))\n",
    "print(\"dist 0,4:\",colabf.dist(0,4))\n",
    "print(\"dist 0,5:\",colabf.dist(0,5))\n",
    "print(\"closest\",colabf.closest())\n",
    "\n"
   ]
  },
  {
   "cell_type": "code",
   "execution_count": 3,
   "metadata": {},
   "outputs": [
    {
     "data": {
      "text/plain": [
       "2.586406866934817"
      ]
     },
     "execution_count": 3,
     "metadata": {},
     "output_type": "execute_result"
    }
   ],
   "source": [
    "out = (colabf.dist(0,2)*2+colabf.dist(0,5)*3)/(colabf.dist(0,2)+colabf.dist(0,5))\n",
    "out"
   ]
  },
  {
   "cell_type": "markdown",
   "metadata": {},
   "source": [
    "## Bonus - Content-based Filtering\n",
    "\n",
    "Stáhněte si Kaggle dataset [Spotify Recommendation system](https://www.kaggle.com/bricevergnou/spotify-recommendation). Z datasetu budete potřebovat:\n",
    "\n",
    "- data.csv = příznaky k jednotlivým skladbám + příznak liked pro klasifikaci\n",
    "\n",
    "Úkolem je:\n",
    "\n",
    "1. Načíst data z csv.\n",
    "2. Vytvořit train (90 %) a test (10 %) split pomocí knihovny [sklearn](https://scikit-learn.org/stable/modules/generated/sklearn.model_selection.train_test_split.html).\n",
    "3. Vytvořit model logistické regrese (vlastní implementace / využití knihovny sklearn nebo jiné).\n",
    "4. Vyhodnotit data na testovací sadě (např. metoda score u LogisticRegression).\n",
    "\n",
    "**Skóre pro uznání úlohy musí být vyšší než 89 %.**\n",
    "\n",
    "Dobrovolné: vytvořit graf predikovaných vs aktuálních hodnot\n",
    "\n",
    "Získání bodu navíc: Využijte i další algoritmy pro binární klasifikaci."
   ]
  },
  {
   "cell_type": "code",
   "execution_count": 53,
   "metadata": {},
   "outputs": [
    {
     "name": "stdout",
     "output_type": "stream",
     "text": [
      "['danceability', 'energy', 'key', 'loudness', 'mode', 'speechiness', 'acousticness', 'instrumentalness', 'liveness', 'valence', 'tempo', 'duration_ms', 'time_signature', 'liked']\n",
      "[0.803, 0.624, 7.0, -6.764, 0.0, 0.0477, 0.451, 0.000734, 0.1, 0.628, 95.968, 5.0754, 4.0, 0.0] 96.6851211458555\n",
      "x (195, 13)\n"
     ]
    }
   ],
   "source": [
    "import csv\n",
    "import numpy as np\n",
    "xl = list()\n",
    "yl = list()\n",
    "normFilter = []\n",
    "with open(\"data.csv\",\"r\") as file:\n",
    "    reader = csv.reader(file)\n",
    "    desc = next(reader)\n",
    "    print(desc)\n",
    "    l1 = next(reader)\n",
    "    l1 = [float(el) for el in l1]\n",
    "    l1[-3]/=60000\n",
    "    print(l1,np.linalg.norm(l1))\n",
    "    xl.append(l1[:-1])\n",
    "    yl.append(l1[-1])\n",
    "    for line in reader:\n",
    "        lineF = [float(el) for el in line]\n",
    "        lineF[-3]/=60000\n",
    "        xl.append(lineF[:-1])\n",
    "        yl.append(lineF[-1])\n",
    "x = np.asarray(xl)\n",
    "y = np.asarray(yl)\n",
    "print(\"x\",x.shape)"
   ]
  },
  {
   "cell_type": "code",
   "execution_count": 67,
   "metadata": {},
   "outputs": [
    {
     "name": "stdout",
     "output_type": "stream",
     "text": [
      "0.9314285714285714\n",
      "0.9\n"
     ]
    },
    {
     "name": "stderr",
     "output_type": "stream",
     "text": [
      "g:\\Program Files\\Python310\\lib\\site-packages\\sklearn\\linear_model\\_logistic.py:458: ConvergenceWarning: lbfgs failed to converge (status=1):\n",
      "STOP: TOTAL NO. of ITERATIONS REACHED LIMIT.\n",
      "\n",
      "Increase the number of iterations (max_iter) or scale the data as shown in:\n",
      "    https://scikit-learn.org/stable/modules/preprocessing.html\n",
      "Please also refer to the documentation for alternative solver options:\n",
      "    https://scikit-learn.org/stable/modules/linear_model.html#logistic-regression\n",
      "  n_iter_i = _check_optimize_result(\n"
     ]
    }
   ],
   "source": [
    "import csv\n",
    "import numpy as np\n",
    "import tensorflow as ts\n",
    "from sklearn.model_selection import train_test_split\n",
    "from sklearn.linear_model import LogisticRegression\n",
    "\n",
    "X_train, X_test, y_train, y_test = train_test_split(x,y, test_size=0.1)\n",
    "\n",
    "clf = LogisticRegression(penalty=\"l2\",random_state=40).fit(X_train, y_train)\n",
    "print(clf.score(X_train, y_train))\n",
    "print(clf.score(X_test, y_test))\n"
   ]
  },
  {
   "cell_type": "code",
   "execution_count": 136,
   "metadata": {},
   "outputs": [
    {
     "name": "stdout",
     "output_type": "stream",
     "text": [
      "Model: \"sequential_67\"\n",
      "_________________________________________________________________\n",
      " Layer (type)                Output Shape              Param #   \n",
      "=================================================================\n",
      " normalization_11 (Normaliza  (None, 13)               27        \n",
      " tion)                                                           \n",
      "                                                                 \n",
      " dense_185 (Dense)           (None, 13)                182       \n",
      "                                                                 \n",
      " dense_186 (Dense)           (None, 1)                 14        \n",
      "                                                                 \n",
      "=================================================================\n",
      "Total params: 223\n",
      "Trainable params: 196\n",
      "Non-trainable params: 27\n",
      "_________________________________________________________________\n",
      "1/1 [==============================] - 0s 132ms/step - loss: 0.5412\n",
      "1/1 [==============================] - 0s 77ms/step\n",
      "[ 1.408912    1.0735333   0.5986006   1.3061383  -0.33357024 -0.96812415\n",
      "  0.8675902   1.4946339   0.74269223  0.7531884  -1.80883    -0.69029117\n",
      "  0.95205045 -0.09613586  1.3896973   0.6947758   0.3375504   0.19027255\n",
      "  0.58896947  1.726392  ]\n",
      "0.15\n",
      "1/1 [==============================] - 0s 36ms/step - loss: 0.3364\n",
      "1/1 [==============================] - 0s 27ms/step\n",
      "[ 1.0202849   0.8666881   0.7929576   1.124058   -0.17920753 -0.07543727\n",
      "  0.52438194  1.068764    0.92394954  0.77884513 -0.4883363   0.24392918\n",
      "  1.0539477   0.31017616  1.1198256   0.7418731   0.50992805  0.61740047\n",
      "  0.85640746  1.3037283 ]\n",
      "0.25\n",
      "1/1 [==============================] - 0s 30ms/step - loss: 0.3118\n",
      "1/1 [==============================] - 0s 28ms/step\n",
      "[ 0.9860403   0.72567385  0.7682058   1.074524   -0.3233231   0.02292934\n",
      "  0.46016136  1.0047418   0.91820353  0.84482783 -0.3754786   0.46802345\n",
      "  0.9755117   0.30426422  1.0220357   0.65720576  0.3589193   0.6578161\n",
      "  0.8752834   1.2353994 ]\n",
      "0.25\n",
      "1/1 [==============================] - 0s 33ms/step - loss: 0.2908\n",
      "1/1 [==============================] - 0s 28ms/step\n",
      "[ 0.97339976  0.7162901   0.71797144  1.0274073  -0.32941088  0.08359971\n",
      "  0.47025743  0.988526    0.90597975  0.8780533  -0.2742389   0.6116053\n",
      "  1.0003668   0.26322523  0.96798193  0.6888453   0.36313882  0.709087\n",
      "  0.90298426  1.2155405 ]\n",
      "0.2\n",
      "1/1 [==============================] - 0s 31ms/step - loss: 0.2758\n",
      "1/1 [==============================] - 0s 26ms/step\n",
      "[ 0.96541256  0.70723003  0.6548218   0.9936585  -0.28063732  0.0701956\n",
      "  0.5072283   0.9766945   0.8764357   0.8935284  -0.27451664  0.63558906\n",
      "  0.9772839   0.22494833  0.94215244  0.70022815  0.33256763  0.682445\n",
      "  0.8973126   1.1835674 ]\n",
      "0.15\n",
      "1/1 [==============================] - 0s 28ms/step - loss: 0.2739\n",
      "1/1 [==============================] - 0s 35ms/step\n",
      "[ 0.9177521   0.6724213   0.5963982   0.9314087  -0.25056002  0.05610351\n",
      "  0.50276834  0.9202183   0.8308533   0.87606984 -0.25789282  0.662793\n",
      "  0.9388321   0.19031505  0.87787324  0.6902302   0.286742    0.6547211\n",
      "  0.868018    1.1178081 ]\n",
      "0.15\n",
      "1/1 [==============================] - 0s 31ms/step - loss: 0.2474\n",
      "1/1 [==============================] - 0s 29ms/step\n",
      "[ 0.9624187   0.7292968   0.6159345   0.96949303 -0.16900241  0.06858265\n",
      "  0.574834    0.9625827   0.87189305  0.93680966 -0.22722042  0.7209531\n",
      "  0.9895202   0.21722996  0.92140305  0.7656776   0.306327    0.6835557\n",
      "  0.9249574   1.147586  ]\n",
      "0.15\n",
      "1/1 [==============================] - 0s 29ms/step - loss: 0.2324\n",
      "1/1 [==============================] - 0s 32ms/step\n",
      "[ 0.98611426  0.76549983  0.63096404  0.995837   -0.11125779  0.09916472\n",
      "  0.6237819   0.9881542   0.893317    0.984987   -0.18144822  0.7605722\n",
      "  1.0134761   0.23856807  0.95411944  0.8094089   0.33392024  0.69000316\n",
      "  0.9598892   1.1619489 ]\n",
      "0.15\n",
      "1/1 [==============================] - 0s 36ms/step - loss: 0.2261\n",
      "1/1 [==============================] - 0s 43ms/step\n",
      "[ 0.98701924  0.75834435  0.60640115  0.9801366  -0.08244734  0.08045836\n",
      "  0.63330334  0.9846265   0.8780009   0.98790044 -0.19004469  0.7584073\n",
      "  1.0082147   0.2244155   0.938873    0.8183381   0.30611965  0.6765458\n",
      "  0.9523398   1.1473901 ]\n",
      "0.15\n",
      "1/1 [==============================] - 0s 43ms/step - loss: 0.2446\n",
      "1/1 [==============================] - 0s 39ms/step\n",
      "[ 0.9198658   0.6753742   0.53077143  0.8981182  -0.13281612  0.03950997\n",
      "  0.5736019   0.9110481   0.79371375  0.93614215 -0.22988205  0.71564215\n",
      "  0.9254257   0.15457459  0.84982985  0.74351615  0.23630638  0.60715216\n",
      "  0.8728153   1.0762894 ]\n",
      "0.15\n",
      "1/1 [==============================] - 0s 40ms/step - loss: 0.2224\n",
      "1/1 [==============================] - 0s 43ms/step\n",
      "[ 0.9728026   0.7230105   0.5546889   0.940494   -0.060041    0.047934\n",
      "  0.62507766  0.96334594  0.8389601   0.9844498  -0.21301037  0.7471165\n",
      "  0.9814982   0.18626636  0.89557976  0.8115954   0.25183624  0.6413817\n",
      "  0.9292092   1.1140933 ]\n",
      "0.15\n",
      "1/1 [==============================] - 0s 51ms/step - loss: 0.2161\n",
      "1/1 [==============================] - 0s 35ms/step\n",
      "[ 0.9879455   0.72799486  0.5572967   0.9395351  -0.03340344  0.05162711\n",
      "  0.6393356   0.9747562   0.8401174   0.99661535 -0.2004004   0.7605075\n",
      "  0.9909076   0.19554801  0.88956827  0.82991785  0.24659534  0.652502\n",
      "  0.93544954  1.1183681 ]\n",
      "0.15\n",
      "1/1 [==============================] - 0s 38ms/step - loss: 0.2180\n",
      "1/1 [==============================] - 0s 45ms/step\n",
      "[ 0.9751369   0.7091266   0.5455171   0.9248687  -0.0244359   0.06607447\n",
      "  0.6204225   0.9603759   0.82733166  0.9948131  -0.17975989  0.7620956\n",
      "  0.9830791   0.19057092  0.8712379   0.822919    0.244382    0.6419116\n",
      "  0.9290544   1.1051141 ]\n",
      "0.15\n",
      "1/1 [==============================] - 0s 39ms/step - loss: 0.2282\n",
      "1/1 [==============================] - 0s 47ms/step\n",
      "[ 0.94276714  0.65753937  0.50441647  0.8771095  -0.04619411  0.03548238\n",
      "  0.5801792   0.92292213  0.7822666   0.96004295 -0.20679191  0.73242474\n",
      "  0.9404297   0.15731141  0.81612587  0.7835369   0.19069669  0.6096029\n",
      "  0.8858776   1.0629025 ]\n",
      "0.15\n",
      "1/1 [==============================] - 0s 39ms/step - loss: 0.2214\n",
      "1/1 [==============================] - 0s 50ms/step\n",
      "[ 0.95792705  0.6650699   0.51347286  0.8822406  -0.01606626  0.04736261\n",
      "  0.58792144  0.93530303  0.7943347   0.9725993  -0.18567152  0.75163394\n",
      "  0.96061546  0.17365198  0.81619674  0.8071769   0.19278745  0.6298049\n",
      "  0.9033397   1.0704482 ]\n",
      "0.15\n",
      "1/1 [==============================] - 0s 33ms/step - loss: 0.2156\n",
      "1/1 [==============================] - 0s 25ms/step\n",
      "[ 0.9729083   0.6800254   0.5317357   0.89551765  0.00881225  0.06340343\n",
      "  0.5957511   0.9500373   0.8118041   0.9894784  -0.16095322  0.7715743\n",
      "  0.9856799   0.19250995  0.825764    0.8334926   0.20765716  0.6497672\n",
      "  0.92609626  1.0841238 ]\n",
      "0.15\n",
      "1/1 [==============================] - 0s 37ms/step - loss: 0.2222\n",
      "1/1 [==============================] - 0s 32ms/step\n",
      "[ 0.9590624   0.6484793   0.50878316  0.869562   -0.00345441  0.0443466\n",
      "  0.5750235   0.9305628   0.7814749   0.9723738  -0.18532392  0.7449835\n",
      "  0.9558523   0.17282179  0.79363424  0.806608    0.18048266  0.6244553\n",
      "  0.89407617  1.06826   ]\n",
      "0.15\n",
      "1/1 [==============================] - 0s 52ms/step - loss: 0.2181\n",
      "1/1 [==============================] - 0s 30ms/step\n",
      "[ 1.0411807   0.72588736  0.57799345  0.95498854  0.06413181  0.08229168\n",
      "  0.6466256   1.0163327   0.85900694  1.049513   -0.15103428  0.7848702\n",
      "  1.0337754   0.237094    0.8835297   0.8890553   0.23792656  0.67743117\n",
      "  0.97642523  1.1460496 ]\n",
      "0.15\n",
      "1/1 [==============================] - 0s 55ms/step - loss: 0.2175\n",
      "1/1 [==============================] - 0s 36ms/step\n",
      "[ 1.0409516   0.7186584   0.5769977   0.94754213  0.07020753  0.07786172\n",
      "  0.63683313  1.0123175   0.8593082   1.0454625  -0.14885145  0.79102415\n",
      "  1.0410231   0.23886865  0.87072176  0.8952331   0.22480959  0.6871881\n",
      "  0.97819513  1.1418437 ]\n",
      "0.15\n",
      "1/1 [==============================] - 0s 43ms/step - loss: 0.2200\n",
      "1/1 [==============================] - 0s 45ms/step\n",
      "[ 0.9667482   0.63309187  0.518568    0.8666391   0.0130443   0.04414648\n",
      "  0.55590814  0.93022436  0.79070467  0.97809976 -0.17529398  0.7579126\n",
      "  0.9725236   0.18719286  0.778531    0.8220319   0.15512937  0.64295\n",
      "  0.90733427  1.0667639 ]\n",
      "0.15\n"
     ]
    }
   ],
   "source": [
    "import tensorflow as tf\n",
    "from tensorflow import keras\n",
    "\n",
    "model = tf.keras.Sequential([tf.keras.Input(shape=(13,)),tf.keras.layers.Normalization(),tf.keras.layers.Dense(13),tf.keras.layers.Dense(1)], name=None)\n",
    "model.summary()\n",
    "model.compile(optimizer=tf.keras.optimizers.Adam(learning_rate=0.0001),loss= 'mean_absolute_error')\n",
    "for i in range(20):\n",
    "    model.fit(X_train,y_train,epochs =200,verbose=0)\n",
    "    model.evaluate(X_test,y_test)\n",
    "    y_pred = model.predict(X_test)\n",
    "    print(y_pred[:,0])\n",
    "    i = (y_pred < 0.5)*1\n",
    "    print(np.sum((i[:,0]==y_test)*1)/len(y_test))"
   ]
  }
 ],
 "metadata": {
  "kernelspec": {
   "display_name": "Python 3",
   "language": "python",
   "name": "python3"
  },
  "language_info": {
   "codemirror_mode": {
    "name": "ipython",
    "version": 3
   },
   "file_extension": ".py",
   "mimetype": "text/x-python",
   "name": "python",
   "nbconvert_exporter": "python",
   "pygments_lexer": "ipython3",
   "version": "3.10.9"
  },
  "vscode": {
   "interpreter": {
    "hash": "f034faa9436916d2fe26a4184004d6a846ac49d8ff62943d73e298b6be9969c0"
   }
  }
 },
 "nbformat": 4,
 "nbformat_minor": 4
}
