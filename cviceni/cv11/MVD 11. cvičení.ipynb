{
 "cells": [
  {
   "cell_type": "markdown",
   "metadata": {},
   "source": [
    "# MVD 11. cvičení\n"
   ]
  },
  {
   "cell_type": "markdown",
   "metadata": {},
   "source": [
    "## 1. část - Collaborative Filtering (item-item)\n",
    "\n",
    "Vytvořte si matici podle příkladu v přednášce na item-item přístup na snímku 24. Využijte centered cosine similarity pro výpočet podobností stejně jako v přednášce a vyberte dva nejbližší sousedy. Ověřte, že je výsledek v přednášce správný a implementujte funkci tak, aby bylo možné jednoduše spočítat i libovolné další vyhodnocení. "
   ]
  },
  {
   "cell_type": "code",
   "execution_count": 1,
   "metadata": {},
   "outputs": [
    {
     "name": "stdout",
     "output_type": "stream",
     "text": [
      "dist 0,0: 0.9999999999999999\n",
      "dist 0,1: -0.17854212213729673\n",
      "dist 0,2: 0.41403933560541256\n",
      "dist 0,3: -0.10245014273309601\n",
      "dist 0,4: -0.30895719032666236\n",
      "dist 0,5: 0.5870395085642741\n",
      "closest (0.5870395085642741, (0, 5))\n"
     ]
    }
   ],
   "source": [
    "import numpy as np\n",
    "from colabFilter import ColabFilter\n",
    "\n",
    "items =  np.asarray([\n",
    "    [1,0,3,0,0,5,0,0,5,0,4,0],\n",
    "    [0,0,5,4,0,0,4,0,0,2,1,3],\n",
    "    [2,4,0,1,2,0,3,0,4,3,5,0],\n",
    "    [0,2,4,0,5,0,0,4,0,0,2,0],\n",
    "    [0,0,4,3,4,2,0,0,0,0,2,5],\n",
    "    [1,0,3,0,3,0,0,2,0,0,4,0],\n",
    "])\n",
    "\n",
    "colabf = ColabFilter(items)\n",
    "print(\"dist 0,0:\",colabf.dist(0,0))\n",
    "print(\"dist 0,1:\",colabf.dist(0,1))\n",
    "print(\"dist 0,2:\",colabf.dist(0,2))\n",
    "print(\"dist 0,3:\",colabf.dist(0,3))\n",
    "print(\"dist 0,4:\",colabf.dist(0,4))\n",
    "print(\"dist 0,5:\",colabf.dist(0,5))\n",
    "print(\"closest\",colabf.closest())\n",
    "\n"
   ]
  },
  {
   "cell_type": "markdown",
   "metadata": {},
   "source": [
    "## Bonus - Content-based Filtering\n",
    "\n",
    "Stáhněte si Kaggle dataset [Spotify Recommendation system](https://www.kaggle.com/bricevergnou/spotify-recommendation). Z datasetu budete potřebovat:\n",
    "\n",
    "- data.csv = příznaky k jednotlivým skladbám + příznak liked pro klasifikaci\n",
    "\n",
    "Úkolem je:\n",
    "\n",
    "1. Načíst data z csv.\n",
    "2. Vytvořit train (90 %) a test (10 %) split pomocí knihovny [sklearn](https://scikit-learn.org/stable/modules/generated/sklearn.model_selection.train_test_split.html).\n",
    "3. Vytvořit model logistické regrese (vlastní implementace / využití knihovny sklearn nebo jiné).\n",
    "4. Vyhodnotit data na testovací sadě (např. metoda score u LogisticRegression).\n",
    "\n",
    "**Skóre pro uznání úlohy musí být vyšší než 89 %.**\n",
    "\n",
    "Dobrovolné: vytvořit graf predikovaných vs aktuálních hodnot\n",
    "\n",
    "Získání bodu navíc: Využijte i další algoritmy pro binární klasifikaci."
   ]
  },
  {
   "cell_type": "code",
   "execution_count": null,
   "metadata": {},
   "outputs": [],
   "source": []
  }
 ],
 "metadata": {
  "kernelspec": {
   "display_name": "Python 3",
   "language": "python",
   "name": "python3"
  },
  "language_info": {
   "codemirror_mode": {
    "name": "ipython",
    "version": 3
   },
   "file_extension": ".py",
   "mimetype": "text/x-python",
   "name": "python",
   "nbconvert_exporter": "python",
   "pygments_lexer": "ipython3",
   "version": "3.10.0"
  },
  "vscode": {
   "interpreter": {
    "hash": "52c95d02f1bfe7c59da35d3ff8fa76f7d162251a8bf0068369a0a87df4b3e5e7"
   }
  }
 },
 "nbformat": 4,
 "nbformat_minor": 4
}
