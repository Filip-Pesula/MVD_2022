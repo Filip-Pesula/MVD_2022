{
 "cells": [
  {
   "cell_type": "markdown",
   "metadata": {},
   "source": [
    "# MVD 9. cvičení\n",
    "\n",
    "Dnešní cvičení nebude až tak obtížné. Cílem je seznámit se s HuggingFace a vyzkoušet si základní práci s BERT modelem.\n",
    "\n",
    "## 1. část - Seznámení s HuggingFace a modelem BERT\n",
    "\n",
    "Nainstalujte si Python knihovnu `transformers` a podívejte se na předtrénovaný [BERT model](https://huggingface.co/bert-base-uncased). Vyzkoušejte si unmasker s různými vstupy.\n",
    "\n",
    "<br>\n",
    "Pozn.: Použití BERT modelu vyžaduje zároveň PyTorch - postačí i cpu verze."
   ]
  },
  {
   "cell_type": "code",
   "execution_count": 15,
   "metadata": {},
   "outputs": [],
   "source": [
    "%load_ext autoreload\n",
    "%autoreload 2"
   ]
  },
  {
   "cell_type": "code",
   "execution_count": 1,
   "metadata": {},
   "outputs": [
    {
     "name": "stderr",
     "output_type": "stream",
     "text": [
      "Some weights of the model checkpoint at bert-base-uncased were not used when initializing BertForMaskedLM: ['cls.seq_relationship.bias', 'cls.seq_relationship.weight']\n",
      "- This IS expected if you are initializing BertForMaskedLM from the checkpoint of a model trained on another task or with another architecture (e.g. initializing a BertForSequenceClassification model from a BertForPreTraining model).\n",
      "- This IS NOT expected if you are initializing BertForMaskedLM from the checkpoint of a model that you expect to be exactly identical (initializing a BertForSequenceClassification model from a BertForSequenceClassification model).\n"
     ]
    },
    {
     "data": {
      "text/plain": [
       "[{'score': 0.0733572468161583,\n",
       "  'token': 23566,\n",
       "  'token_str': 'vegetarian',\n",
       "  'sequence': 'ananas on pizza is a vegetarian.'},\n",
       " {'score': 0.05517164617776871,\n",
       "  'token': 26136,\n",
       "  'token_str': 'pun',\n",
       "  'sequence': 'ananas on pizza is a pun.'},\n",
       " {'score': 0.044163379818201065,\n",
       "  'token': 12354,\n",
       "  'token_str': 'parody',\n",
       "  'sequence': 'ananas on pizza is a parody.'},\n",
       " {'score': 0.04168140888214111,\n",
       "  'token': 8257,\n",
       "  'token_str': 'joke',\n",
       "  'sequence': 'ananas on pizza is a joke.'},\n",
       " {'score': 0.01876555196940899,\n",
       "  'token': 5440,\n",
       "  'token_str': 'favorite',\n",
       "  'sequence': 'ananas on pizza is a favorite.'}]"
      ]
     },
     "execution_count": 1,
     "metadata": {},
     "output_type": "execute_result"
    }
   ],
   "source": [
    "from transformers import pipeline\n",
    "unmasker = pipeline('fill-mask', model='bert-base-uncased')\n",
    "unmasker(\"Hello I'm a [MASK] model.\")\n",
    "\n",
    "\n",
    "unmasker(\"Ananas on pizza is a [MASK].\")\n",
    "\n",
    "\n"
   ]
  },
  {
   "cell_type": "markdown",
   "metadata": {},
   "source": [
    "## 2. část - BERT contextualized word embeddings\n",
    "\n",
    "BERT dokumentace obsahuje také návod jak použít tento model pro získání word embeddingů. Vyzkoušejte použití stejného slova v různém kontextu a podívejte se, jak se mění kosinova podobnost embeddingů v závislosti na kontextu daného slova.\n",
    "\n",
    "Podívejte se na výstup tokenizeru před vstupem do BERT modelu - kolik tokenů bylo vytvořeno pro větu \"Hello, this is Bert.\"? Zdůvodněte jejich počet.\n",
    "\n",
    "<br>\n",
    "Pozn.: Vyřešení předchozí otázky Vám pomůže zjistit, který vektor z výstupu pro cílové slovo použít."
   ]
  },
  {
   "cell_type": "code",
   "execution_count": 2,
   "metadata": {},
   "outputs": [
    {
     "name": "stderr",
     "output_type": "stream",
     "text": [
      "Some weights of the model checkpoint at bert-base-uncased were not used when initializing BertModel: ['cls.predictions.transform.LayerNorm.weight', 'cls.predictions.transform.LayerNorm.bias', 'cls.predictions.bias', 'cls.seq_relationship.weight', 'cls.predictions.decoder.weight', 'cls.seq_relationship.bias', 'cls.predictions.transform.dense.weight', 'cls.predictions.transform.dense.bias']\n",
      "- This IS expected if you are initializing BertModel from the checkpoint of a model trained on another task or with another architecture (e.g. initializing a BertForSequenceClassification model from a BertForPreTraining model).\n",
      "- This IS NOT expected if you are initializing BertModel from the checkpoint of a model that you expect to be exactly identical (initializing a BertForSequenceClassification model from a BertForSequenceClassification model).\n"
     ]
    }
   ],
   "source": [
    "from bertEmbedings import Embedings\n",
    "embedings = Embedings()"
   ]
  },
  {
   "cell_type": "code",
   "execution_count": 17,
   "metadata": {},
   "outputs": [
    {
     "name": "stderr",
     "output_type": "stream",
     "text": [
      "Some weights of the model checkpoint at bert-base-uncased were not used when initializing BertModel: ['cls.predictions.transform.dense.bias', 'cls.seq_relationship.bias', 'cls.predictions.transform.dense.weight', 'cls.predictions.bias', 'cls.predictions.transform.LayerNorm.weight', 'cls.predictions.decoder.weight', 'cls.predictions.transform.LayerNorm.bias', 'cls.seq_relationship.weight']\n",
      "- This IS expected if you are initializing BertModel from the checkpoint of a model trained on another task or with another architecture (e.g. initializing a BertForSequenceClassification model from a BertForPreTraining model).\n",
      "- This IS NOT expected if you are initializing BertModel from the checkpoint of a model that you expect to be exactly identical (initializing a BertForSequenceClassification model from a BertForSequenceClassification model).\n"
     ]
    },
    {
     "name": "stdout",
     "output_type": "stream",
     "text": [
      "['ring']\n",
      "Shape is: 1 x 3072\n",
      "['can', 'you', 'ring', 'me']\n",
      "Shape is: 4 x 3072\n",
      "['did', 'you', 'hear', 'the', 'ring']\n",
      "Shape is: 5 x 3072\n",
      "['i', 'just', 'bought', 'a', 'new', 'ring']\n",
      "Shape is: 6 x 3072\n",
      "['ring', 'is', 'not', 'a', 'circle']\n",
      "Shape is: 5 x 3072\n",
      "ring \n",
      " [tensor(1.), tensor(0.4878), tensor(0.3521), tensor(0.3894), tensor(0.5676)]\n",
      "can you ring me \n",
      " [tensor(0.4878), tensor(1.), tensor(0.4527), tensor(0.5239), tensor(0.5082)]\n",
      "did you hear the ring \n",
      " [tensor(0.3521), tensor(0.4527), tensor(1.0000), tensor(0.5589), tensor(0.4818)]\n",
      "I just bought a new ring \n",
      " [tensor(0.3894), tensor(0.5239), tensor(0.5589), tensor(1.0000), tensor(0.5742)]\n",
      "ring is not a circle \n",
      " [tensor(0.5676), tensor(0.5082), tensor(0.4818), tensor(0.5742), tensor(1.)]\n"
     ]
    }
   ],
   "source": [
    "from bertEmbedings import Embedings\n",
    "\n",
    "\n",
    "embedings = Embedings()\n",
    "\n",
    "sentences = [\n",
    "    {\"sentence\":\"ring\",\"index\":0,\"embedings\":None,\"tokens\":None},\n",
    "    {\"sentence\":\"can you ring me\",\"index\":2,\"embedings\":None,\"tokens\":None},\n",
    "    {\"sentence\":\"did you hear the ring\",\"index\":3,\"embedings\":None,\"tokens\":None},\n",
    "    {\"sentence\":\"I just bought a new ring\",\"index\":5,\"embedings\":None,\"tokens\":None},\n",
    "    {\"sentence\":\"ring is not a circle\",\"index\":0,\"embedings\":None,\"tokens\":None},\n",
    "]\n",
    "embedings.processSentences(sentences)\n",
    "\n",
    "#print(sentences)\n"
   ]
  },
  {
   "cell_type": "code",
   "execution_count": 4,
   "metadata": {},
   "outputs": [
    {
     "name": "stdout",
     "output_type": "stream",
     "text": [
      "Hello, this is Bert.\n",
      "['hello', ',', 'this', 'is', 'bert', '.']\n"
     ]
    }
   ],
   "source": [
    "from transformers import BertTokenizer\n",
    "\n",
    "tokenizer = BertTokenizer.from_pretrained('bert-base-uncased')\n",
    "text = \"Hello, this is Bert.\"\n",
    "\n",
    "tokenized_text = tokenizer.tokenize(text)\n",
    "print(text)\n",
    "print (tokenized_text)"
   ]
  },
  {
   "cell_type": "markdown",
   "metadata": {},
   "source": [
    "## Bonus - Vizualizace slovních  embeddingů\n",
    "\n",
    "Vizualizujte slovní embeddingy - mění se jejich pozice v závislosti na kontextu tak, jak byste očekávali? Pokuste se vizualizovat i některá slova, ke kterým by se podle vás cílové slovo mělo po změně kontextu přiblížit."
   ]
  },
  {
   "cell_type": "code",
   "execution_count": 42,
   "metadata": {},
   "outputs": [
    {
     "name": "stderr",
     "output_type": "stream",
     "text": [
      "Some weights of the model checkpoint at bert-base-uncased were not used when initializing BertModel: ['cls.predictions.transform.dense.bias', 'cls.seq_relationship.bias', 'cls.predictions.transform.dense.weight', 'cls.predictions.bias', 'cls.predictions.transform.LayerNorm.weight', 'cls.predictions.decoder.weight', 'cls.predictions.transform.LayerNorm.bias', 'cls.seq_relationship.weight']\n",
      "- This IS expected if you are initializing BertModel from the checkpoint of a model trained on another task or with another architecture (e.g. initializing a BertForSequenceClassification model from a BertForPreTraining model).\n",
      "- This IS NOT expected if you are initializing BertModel from the checkpoint of a model that you expect to be exactly identical (initializing a BertForSequenceClassification model from a BertForSequenceClassification model).\n"
     ]
    },
    {
     "name": "stdout",
     "output_type": "stream",
     "text": [
      "['date']\n",
      "Shape is: 1 x 3072\n",
      "['what', 'is', 'the', 'date']\n",
      "Shape is: 4 x 3072\n",
      "['can', 'you', 'select', 'a', 'date', 'for', 'next', 'meeting']\n",
      "Shape is: 8 x 3072\n",
      "['i', 'need', 'to', 'double', 'check', 'the', 'date', 'on', 'my', 'ticket']\n",
      "Shape is: 10 x 3072\n",
      "['can', 'we', 'go', 'on', 'a', 'date']\n",
      "Shape is: 6 x 3072\n",
      "['will', 'you', 'date', 'me']\n",
      "Shape is: 4 x 3072\n",
      "['partner']\n",
      "Shape is: 1 x 3072\n",
      "['he', 'is', 'my', 'date']\n",
      "Shape is: 4 x 3072\n",
      "date \n",
      " [tensor(1.), tensor(0.6057), tensor(0.5530), tensor(0.4842), tensor(0.5002), tensor(0.5222), tensor(0.4956), tensor(0.5467)]\n",
      "what is the date \n",
      " [tensor(0.6057), tensor(1.0000), tensor(0.7115), tensor(0.7373), tensor(0.6455), tensor(0.5730), tensor(0.4468), tensor(0.7218)]\n",
      "can you select a date for next meeting \n",
      " [tensor(0.5530), tensor(0.7115), tensor(1.), tensor(0.7182), tensor(0.7439), tensor(0.6172), tensor(0.3987), tensor(0.7387)]\n",
      "I need to double check the date on my ticket \n",
      " [tensor(0.4842), tensor(0.7373), tensor(0.7182), tensor(1.), tensor(0.6067), tensor(0.5397), tensor(0.3616), tensor(0.7097)]\n",
      "can we go on a date \n",
      " [tensor(0.5002), tensor(0.6455), tensor(0.7439), tensor(0.6067), tensor(1.), tensor(0.6219), tensor(0.3722), tensor(0.7062)]\n",
      "will you date me \n",
      " [tensor(0.5222), tensor(0.5730), tensor(0.6172), tensor(0.5397), tensor(0.6219), tensor(1.), tensor(0.4797), tensor(0.6314)]\n",
      "partner \n",
      " [tensor(0.4956), tensor(0.4468), tensor(0.3987), tensor(0.3616), tensor(0.3722), tensor(0.4797), tensor(1.0000), tensor(0.4173)]\n",
      "He is my date \n",
      " [tensor(0.5467), tensor(0.7218), tensor(0.7387), tensor(0.7097), tensor(0.7062), tensor(0.6314), tensor(0.4173), tensor(1.)]\n"
     ]
    },
    {
     "data": {
      "application/vnd.plotly.v1+json": {
       "config": {
        "plotlyServerURL": "https://plot.ly"
       },
       "data": [
        {
         "hovertemplate": "color=date<br>x=%{x}<br>y=%{y}<br>text=%{text}<extra></extra>",
         "legendgroup": "date",
         "marker": {
          "color": "#636efa",
          "symbol": "circle"
         },
         "mode": "markers+text",
         "name": "date",
         "orientation": "v",
         "showlegend": true,
         "text": [
          "date"
         ],
         "textposition": "top center",
         "type": "scatter",
         "x": [
          -15.939400672912598
         ],
         "xaxis": "x",
         "y": [
          -84.71674346923828
         ],
         "yaxis": "y"
        },
        {
         "hovertemplate": "color=what is the date<br>x=%{x}<br>y=%{y}<br>text=%{text}<extra></extra>",
         "legendgroup": "what is the date",
         "marker": {
          "color": "#EF553B",
          "symbol": "circle"
         },
         "mode": "markers+text",
         "name": "what is the date",
         "orientation": "v",
         "showlegend": true,
         "text": [
          "what is the date"
         ],
         "textposition": "top center",
         "type": "scatter",
         "x": [
          -52.01039505004883
         ],
         "xaxis": "x",
         "y": [
          -60.21531295776367
         ],
         "yaxis": "y"
        },
        {
         "hovertemplate": "color=can you select a date for next meeting<br>x=%{x}<br>y=%{y}<br>text=%{text}<extra></extra>",
         "legendgroup": "can you select a date for next meeting",
         "marker": {
          "color": "#00cc96",
          "symbol": "circle"
         },
         "mode": "markers+text",
         "name": "can you select a date for next meeting",
         "orientation": "v",
         "showlegend": true,
         "text": [
          "can you select a date for next meeting"
         ],
         "textposition": "top center",
         "type": "scatter",
         "x": [
          -5.6843767166137695
         ],
         "xaxis": "x",
         "y": [
          47.68212890625
         ],
         "yaxis": "y"
        },
        {
         "hovertemplate": "color=I need to double check the date on my ticket<br>x=%{x}<br>y=%{y}<br>text=%{text}<extra></extra>",
         "legendgroup": "I need to double check the date on my ticket",
         "marker": {
          "color": "#ab63fa",
          "symbol": "circle"
         },
         "mode": "markers+text",
         "name": "I need to double check the date on my ticket",
         "orientation": "v",
         "showlegend": true,
         "text": [
          "I need to double check the date on my ticket"
         ],
         "textposition": "top center",
         "type": "scatter",
         "x": [
          -76.86210632324219
         ],
         "xaxis": "x",
         "y": [
          -47.8678092956543
         ],
         "yaxis": "y"
        },
        {
         "hovertemplate": "color=can we go on a date<br>x=%{x}<br>y=%{y}<br>text=%{text}<extra></extra>",
         "legendgroup": "can we go on a date",
         "marker": {
          "color": "#FFA15A",
          "symbol": "circle"
         },
         "mode": "markers+text",
         "name": "can we go on a date",
         "orientation": "v",
         "showlegend": true,
         "text": [
          "can we go on a date"
         ],
         "textposition": "top center",
         "type": "scatter",
         "x": [
          22.397764205932617
         ],
         "xaxis": "x",
         "y": [
          48.01622772216797
         ],
         "yaxis": "y"
        },
        {
         "hovertemplate": "color=will you date me<br>x=%{x}<br>y=%{y}<br>text=%{text}<extra></extra>",
         "legendgroup": "will you date me",
         "marker": {
          "color": "#19d3f3",
          "symbol": "circle"
         },
         "mode": "markers+text",
         "name": "will you date me",
         "orientation": "v",
         "showlegend": true,
         "text": [
          "will you date me"
         ],
         "textposition": "top center",
         "type": "scatter",
         "x": [
          45.59847640991211
         ],
         "xaxis": "x",
         "y": [
          4.606754779815674
         ],
         "yaxis": "y"
        },
        {
         "hovertemplate": "color=partner<br>x=%{x}<br>y=%{y}<br>text=%{text}<extra></extra>",
         "legendgroup": "partner",
         "marker": {
          "color": "#FF6692",
          "symbol": "circle"
         },
         "mode": "markers+text",
         "name": "partner",
         "orientation": "v",
         "showlegend": true,
         "text": [
          "partner"
         ],
         "textposition": "top center",
         "type": "scatter",
         "x": [
          26.58020782470703
         ],
         "xaxis": "x",
         "y": [
          -91.63866424560547
         ],
         "yaxis": "y"
        },
        {
         "hovertemplate": "color=He is my date<br>x=%{x}<br>y=%{y}<br>text=%{text}<extra></extra>",
         "legendgroup": "He is my date",
         "marker": {
          "color": "#B6E880",
          "symbol": "circle"
         },
         "mode": "markers+text",
         "name": "He is my date",
         "orientation": "v",
         "showlegend": true,
         "text": [
          "He is my date"
         ],
         "textposition": "top center",
         "type": "scatter",
         "x": [
          -16.900806427001953
         ],
         "xaxis": "x",
         "y": [
          15.264938354492188
         ],
         "yaxis": "y"
        }
       ],
       "layout": {
        "legend": {
         "entrywidth": 70,
         "orientation": "h",
         "title": {
          "text": "color"
         },
         "tracegroupgap": 0,
         "x": 1,
         "xanchor": "right",
         "y": 1.02,
         "yanchor": "bottom"
        },
        "margin": {
         "t": 60
        },
        "template": {
         "data": {
          "bar": [
           {
            "error_x": {
             "color": "#2a3f5f"
            },
            "error_y": {
             "color": "#2a3f5f"
            },
            "marker": {
             "line": {
              "color": "#E5ECF6",
              "width": 0.5
             },
             "pattern": {
              "fillmode": "overlay",
              "size": 10,
              "solidity": 0.2
             }
            },
            "type": "bar"
           }
          ],
          "barpolar": [
           {
            "marker": {
             "line": {
              "color": "#E5ECF6",
              "width": 0.5
             },
             "pattern": {
              "fillmode": "overlay",
              "size": 10,
              "solidity": 0.2
             }
            },
            "type": "barpolar"
           }
          ],
          "carpet": [
           {
            "aaxis": {
             "endlinecolor": "#2a3f5f",
             "gridcolor": "white",
             "linecolor": "white",
             "minorgridcolor": "white",
             "startlinecolor": "#2a3f5f"
            },
            "baxis": {
             "endlinecolor": "#2a3f5f",
             "gridcolor": "white",
             "linecolor": "white",
             "minorgridcolor": "white",
             "startlinecolor": "#2a3f5f"
            },
            "type": "carpet"
           }
          ],
          "choropleth": [
           {
            "colorbar": {
             "outlinewidth": 0,
             "ticks": ""
            },
            "type": "choropleth"
           }
          ],
          "contour": [
           {
            "colorbar": {
             "outlinewidth": 0,
             "ticks": ""
            },
            "colorscale": [
             [
              0,
              "#0d0887"
             ],
             [
              0.1111111111111111,
              "#46039f"
             ],
             [
              0.2222222222222222,
              "#7201a8"
             ],
             [
              0.3333333333333333,
              "#9c179e"
             ],
             [
              0.4444444444444444,
              "#bd3786"
             ],
             [
              0.5555555555555556,
              "#d8576b"
             ],
             [
              0.6666666666666666,
              "#ed7953"
             ],
             [
              0.7777777777777778,
              "#fb9f3a"
             ],
             [
              0.8888888888888888,
              "#fdca26"
             ],
             [
              1,
              "#f0f921"
             ]
            ],
            "type": "contour"
           }
          ],
          "contourcarpet": [
           {
            "colorbar": {
             "outlinewidth": 0,
             "ticks": ""
            },
            "type": "contourcarpet"
           }
          ],
          "heatmap": [
           {
            "colorbar": {
             "outlinewidth": 0,
             "ticks": ""
            },
            "colorscale": [
             [
              0,
              "#0d0887"
             ],
             [
              0.1111111111111111,
              "#46039f"
             ],
             [
              0.2222222222222222,
              "#7201a8"
             ],
             [
              0.3333333333333333,
              "#9c179e"
             ],
             [
              0.4444444444444444,
              "#bd3786"
             ],
             [
              0.5555555555555556,
              "#d8576b"
             ],
             [
              0.6666666666666666,
              "#ed7953"
             ],
             [
              0.7777777777777778,
              "#fb9f3a"
             ],
             [
              0.8888888888888888,
              "#fdca26"
             ],
             [
              1,
              "#f0f921"
             ]
            ],
            "type": "heatmap"
           }
          ],
          "heatmapgl": [
           {
            "colorbar": {
             "outlinewidth": 0,
             "ticks": ""
            },
            "colorscale": [
             [
              0,
              "#0d0887"
             ],
             [
              0.1111111111111111,
              "#46039f"
             ],
             [
              0.2222222222222222,
              "#7201a8"
             ],
             [
              0.3333333333333333,
              "#9c179e"
             ],
             [
              0.4444444444444444,
              "#bd3786"
             ],
             [
              0.5555555555555556,
              "#d8576b"
             ],
             [
              0.6666666666666666,
              "#ed7953"
             ],
             [
              0.7777777777777778,
              "#fb9f3a"
             ],
             [
              0.8888888888888888,
              "#fdca26"
             ],
             [
              1,
              "#f0f921"
             ]
            ],
            "type": "heatmapgl"
           }
          ],
          "histogram": [
           {
            "marker": {
             "pattern": {
              "fillmode": "overlay",
              "size": 10,
              "solidity": 0.2
             }
            },
            "type": "histogram"
           }
          ],
          "histogram2d": [
           {
            "colorbar": {
             "outlinewidth": 0,
             "ticks": ""
            },
            "colorscale": [
             [
              0,
              "#0d0887"
             ],
             [
              0.1111111111111111,
              "#46039f"
             ],
             [
              0.2222222222222222,
              "#7201a8"
             ],
             [
              0.3333333333333333,
              "#9c179e"
             ],
             [
              0.4444444444444444,
              "#bd3786"
             ],
             [
              0.5555555555555556,
              "#d8576b"
             ],
             [
              0.6666666666666666,
              "#ed7953"
             ],
             [
              0.7777777777777778,
              "#fb9f3a"
             ],
             [
              0.8888888888888888,
              "#fdca26"
             ],
             [
              1,
              "#f0f921"
             ]
            ],
            "type": "histogram2d"
           }
          ],
          "histogram2dcontour": [
           {
            "colorbar": {
             "outlinewidth": 0,
             "ticks": ""
            },
            "colorscale": [
             [
              0,
              "#0d0887"
             ],
             [
              0.1111111111111111,
              "#46039f"
             ],
             [
              0.2222222222222222,
              "#7201a8"
             ],
             [
              0.3333333333333333,
              "#9c179e"
             ],
             [
              0.4444444444444444,
              "#bd3786"
             ],
             [
              0.5555555555555556,
              "#d8576b"
             ],
             [
              0.6666666666666666,
              "#ed7953"
             ],
             [
              0.7777777777777778,
              "#fb9f3a"
             ],
             [
              0.8888888888888888,
              "#fdca26"
             ],
             [
              1,
              "#f0f921"
             ]
            ],
            "type": "histogram2dcontour"
           }
          ],
          "mesh3d": [
           {
            "colorbar": {
             "outlinewidth": 0,
             "ticks": ""
            },
            "type": "mesh3d"
           }
          ],
          "parcoords": [
           {
            "line": {
             "colorbar": {
              "outlinewidth": 0,
              "ticks": ""
             }
            },
            "type": "parcoords"
           }
          ],
          "pie": [
           {
            "automargin": true,
            "type": "pie"
           }
          ],
          "scatter": [
           {
            "fillpattern": {
             "fillmode": "overlay",
             "size": 10,
             "solidity": 0.2
            },
            "type": "scatter"
           }
          ],
          "scatter3d": [
           {
            "line": {
             "colorbar": {
              "outlinewidth": 0,
              "ticks": ""
             }
            },
            "marker": {
             "colorbar": {
              "outlinewidth": 0,
              "ticks": ""
             }
            },
            "type": "scatter3d"
           }
          ],
          "scattercarpet": [
           {
            "marker": {
             "colorbar": {
              "outlinewidth": 0,
              "ticks": ""
             }
            },
            "type": "scattercarpet"
           }
          ],
          "scattergeo": [
           {
            "marker": {
             "colorbar": {
              "outlinewidth": 0,
              "ticks": ""
             }
            },
            "type": "scattergeo"
           }
          ],
          "scattergl": [
           {
            "marker": {
             "colorbar": {
              "outlinewidth": 0,
              "ticks": ""
             }
            },
            "type": "scattergl"
           }
          ],
          "scattermapbox": [
           {
            "marker": {
             "colorbar": {
              "outlinewidth": 0,
              "ticks": ""
             }
            },
            "type": "scattermapbox"
           }
          ],
          "scatterpolar": [
           {
            "marker": {
             "colorbar": {
              "outlinewidth": 0,
              "ticks": ""
             }
            },
            "type": "scatterpolar"
           }
          ],
          "scatterpolargl": [
           {
            "marker": {
             "colorbar": {
              "outlinewidth": 0,
              "ticks": ""
             }
            },
            "type": "scatterpolargl"
           }
          ],
          "scatterternary": [
           {
            "marker": {
             "colorbar": {
              "outlinewidth": 0,
              "ticks": ""
             }
            },
            "type": "scatterternary"
           }
          ],
          "surface": [
           {
            "colorbar": {
             "outlinewidth": 0,
             "ticks": ""
            },
            "colorscale": [
             [
              0,
              "#0d0887"
             ],
             [
              0.1111111111111111,
              "#46039f"
             ],
             [
              0.2222222222222222,
              "#7201a8"
             ],
             [
              0.3333333333333333,
              "#9c179e"
             ],
             [
              0.4444444444444444,
              "#bd3786"
             ],
             [
              0.5555555555555556,
              "#d8576b"
             ],
             [
              0.6666666666666666,
              "#ed7953"
             ],
             [
              0.7777777777777778,
              "#fb9f3a"
             ],
             [
              0.8888888888888888,
              "#fdca26"
             ],
             [
              1,
              "#f0f921"
             ]
            ],
            "type": "surface"
           }
          ],
          "table": [
           {
            "cells": {
             "fill": {
              "color": "#EBF0F8"
             },
             "line": {
              "color": "white"
             }
            },
            "header": {
             "fill": {
              "color": "#C8D4E3"
             },
             "line": {
              "color": "white"
             }
            },
            "type": "table"
           }
          ]
         },
         "layout": {
          "annotationdefaults": {
           "arrowcolor": "#2a3f5f",
           "arrowhead": 0,
           "arrowwidth": 1
          },
          "autotypenumbers": "strict",
          "coloraxis": {
           "colorbar": {
            "outlinewidth": 0,
            "ticks": ""
           }
          },
          "colorscale": {
           "diverging": [
            [
             0,
             "#8e0152"
            ],
            [
             0.1,
             "#c51b7d"
            ],
            [
             0.2,
             "#de77ae"
            ],
            [
             0.3,
             "#f1b6da"
            ],
            [
             0.4,
             "#fde0ef"
            ],
            [
             0.5,
             "#f7f7f7"
            ],
            [
             0.6,
             "#e6f5d0"
            ],
            [
             0.7,
             "#b8e186"
            ],
            [
             0.8,
             "#7fbc41"
            ],
            [
             0.9,
             "#4d9221"
            ],
            [
             1,
             "#276419"
            ]
           ],
           "sequential": [
            [
             0,
             "#0d0887"
            ],
            [
             0.1111111111111111,
             "#46039f"
            ],
            [
             0.2222222222222222,
             "#7201a8"
            ],
            [
             0.3333333333333333,
             "#9c179e"
            ],
            [
             0.4444444444444444,
             "#bd3786"
            ],
            [
             0.5555555555555556,
             "#d8576b"
            ],
            [
             0.6666666666666666,
             "#ed7953"
            ],
            [
             0.7777777777777778,
             "#fb9f3a"
            ],
            [
             0.8888888888888888,
             "#fdca26"
            ],
            [
             1,
             "#f0f921"
            ]
           ],
           "sequentialminus": [
            [
             0,
             "#0d0887"
            ],
            [
             0.1111111111111111,
             "#46039f"
            ],
            [
             0.2222222222222222,
             "#7201a8"
            ],
            [
             0.3333333333333333,
             "#9c179e"
            ],
            [
             0.4444444444444444,
             "#bd3786"
            ],
            [
             0.5555555555555556,
             "#d8576b"
            ],
            [
             0.6666666666666666,
             "#ed7953"
            ],
            [
             0.7777777777777778,
             "#fb9f3a"
            ],
            [
             0.8888888888888888,
             "#fdca26"
            ],
            [
             1,
             "#f0f921"
            ]
           ]
          },
          "colorway": [
           "#636efa",
           "#EF553B",
           "#00cc96",
           "#ab63fa",
           "#FFA15A",
           "#19d3f3",
           "#FF6692",
           "#B6E880",
           "#FF97FF",
           "#FECB52"
          ],
          "font": {
           "color": "#2a3f5f"
          },
          "geo": {
           "bgcolor": "white",
           "lakecolor": "white",
           "landcolor": "#E5ECF6",
           "showlakes": true,
           "showland": true,
           "subunitcolor": "white"
          },
          "hoverlabel": {
           "align": "left"
          },
          "hovermode": "closest",
          "mapbox": {
           "style": "light"
          },
          "paper_bgcolor": "white",
          "plot_bgcolor": "#E5ECF6",
          "polar": {
           "angularaxis": {
            "gridcolor": "white",
            "linecolor": "white",
            "ticks": ""
           },
           "bgcolor": "#E5ECF6",
           "radialaxis": {
            "gridcolor": "white",
            "linecolor": "white",
            "ticks": ""
           }
          },
          "scene": {
           "xaxis": {
            "backgroundcolor": "#E5ECF6",
            "gridcolor": "white",
            "gridwidth": 2,
            "linecolor": "white",
            "showbackground": true,
            "ticks": "",
            "zerolinecolor": "white"
           },
           "yaxis": {
            "backgroundcolor": "#E5ECF6",
            "gridcolor": "white",
            "gridwidth": 2,
            "linecolor": "white",
            "showbackground": true,
            "ticks": "",
            "zerolinecolor": "white"
           },
           "zaxis": {
            "backgroundcolor": "#E5ECF6",
            "gridcolor": "white",
            "gridwidth": 2,
            "linecolor": "white",
            "showbackground": true,
            "ticks": "",
            "zerolinecolor": "white"
           }
          },
          "shapedefaults": {
           "line": {
            "color": "#2a3f5f"
           }
          },
          "ternary": {
           "aaxis": {
            "gridcolor": "white",
            "linecolor": "white",
            "ticks": ""
           },
           "baxis": {
            "gridcolor": "white",
            "linecolor": "white",
            "ticks": ""
           },
           "bgcolor": "#E5ECF6",
           "caxis": {
            "gridcolor": "white",
            "linecolor": "white",
            "ticks": ""
           }
          },
          "title": {
           "x": 0.05
          },
          "xaxis": {
           "automargin": true,
           "gridcolor": "white",
           "linecolor": "white",
           "ticks": "",
           "title": {
            "standoff": 15
           },
           "zerolinecolor": "white",
           "zerolinewidth": 2
          },
          "yaxis": {
           "automargin": true,
           "gridcolor": "white",
           "linecolor": "white",
           "ticks": "",
           "title": {
            "standoff": 15
           },
           "zerolinecolor": "white",
           "zerolinewidth": 2
          }
         }
        },
        "xaxis": {
         "anchor": "y",
         "domain": [
          0,
          1
         ],
         "title": {
          "text": "x"
         }
        },
        "yaxis": {
         "anchor": "x",
         "domain": [
          0,
          1
         ],
         "title": {
          "text": "y"
         }
        }
       }
      }
     },
     "metadata": {},
     "output_type": "display_data"
    }
   ],
   "source": [
    "import numpy as np\n",
    "import plotly.express as px\n",
    "from sklearn.manifold import TSNE\n",
    "embedings = Embedings()\n",
    "sentences = [\n",
    "\n",
    "    {\"sentence\":\"date\",\"index\":0,\"embedings\":None,\"tokens\":None},\n",
    "    {\"sentence\":\"what is the date\",\"index\":3,\"embedings\":None,\"tokens\":None},\n",
    "    {\"sentence\":\"can you select a date for next meeting\",\"index\":4,\"embedings\":None,\"tokens\":None},\n",
    "    {\"sentence\":\"I need to double check the date on my ticket\",\"index\":6,\"embedings\":None,\"tokens\":None},\n",
    "\n",
    "    #{\"sentence\":\"meeting\",\"index\":0,\"embedings\":None,\"tokens\":None},\n",
    "    {\"sentence\":\"can we go on a date\",\"index\":5,\"embedings\":None,\"tokens\":None},\n",
    "    {\"sentence\":\"will you date me\",\"index\":2,\"embedings\":None,\"tokens\":None},\n",
    "\n",
    "    {\"sentence\":\"partner\",\"index\":0,\"embedings\":None,\"tokens\":None},\n",
    "    {\"sentence\":\"He is my date\",\"index\":3,\"embedings\":None,\"tokens\":None},\n",
    "\n",
    "]\n",
    "embedings.processSentences(sentences,verbouse=1)\n",
    "\n",
    "\n",
    "\n",
    "\n",
    "embed = np.asarray([sentence[\"embedings\"][sentence[\"index\"]].numpy() for sentence in sentences])\n",
    "\n",
    "col = [sentence[\"sentence\"] for sentence in sentences]\n",
    "\n",
    "X_embedded = TSNE(n_components=2,  init='random', perplexity=2).fit_transform(embed)\n",
    "fig = px.scatter(X_embedded, x=X_embedded[:,0], y=X_embedded[:,1],color = col,text=col)\n",
    "fig.update_traces(textposition='top center')\n",
    "fig.update_layout(legend=dict(\n",
    "    orientation=\"h\",\n",
    "    entrywidth=70,\n",
    "    yanchor=\"bottom\",\n",
    "    y=1.02,\n",
    "    xanchor=\"right\",\n",
    "    x=1\n",
    "))\n",
    "\n",
    "fig.show()"
   ]
  }
 ],
 "metadata": {
  "kernelspec": {
   "display_name": "Python 3",
   "language": "python",
   "name": "python3"
  },
  "language_info": {
   "codemirror_mode": {
    "name": "ipython",
    "version": 3
   },
   "file_extension": ".py",
   "mimetype": "text/x-python",
   "name": "python",
   "nbconvert_exporter": "python",
   "pygments_lexer": "ipython3",
   "version": "3.10.9"
  },
  "vscode": {
   "interpreter": {
    "hash": "f034faa9436916d2fe26a4184004d6a846ac49d8ff62943d73e298b6be9969c0"
   }
  }
 },
 "nbformat": 4,
 "nbformat_minor": 4
}
